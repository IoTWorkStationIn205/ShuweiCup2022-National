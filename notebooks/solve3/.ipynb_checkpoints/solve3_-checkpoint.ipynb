{
 "cells": [
  {
   "cell_type": "code",
   "execution_count": 1,
   "metadata": {
    "collapsed": true,
    "pycharm": {
     "name": "#%%\n"
    }
   },
   "outputs": [],
   "source": [
    "import numpy as np\n",
    "import pandas as pd\n",
    "import matplotlib.pyplot as plt\n",
    "import seaborn as sns\n",
    "import klib as kl\n",
    "import os\n",
    "import warnings\n",
    "\n",
    "os.environ['KERAS_BACKEND']='tensorflow'\n",
    "os.environ[\"CUDA_VISIBLE_DEVICES\"]=\"0\"\n",
    "os.environ[\"KMP_DUPLICATE_LIB_OK\"]=\"TRUE\"\n",
    "warnings.filterwarnings('ignore')\n",
    "plt.rcParams['font.sans-serif'] = ['Kaiti']\n",
    "plt.rcParams['axes.unicode_minus'] = False\n",
    "PIC_PATH = \"../../models/image/image3\"\n",
    "DATA_PATH = '../../data'\n",
    "RESULT_PATH = '../../data/summary'\n",
    "MODEL_PATH = '../../models/model3'"
   ]
  },
  {
   "cell_type": "code",
   "execution_count": 2,
   "metadata": {
    "pycharm": {
     "name": "#%%\n"
    }
   },
   "outputs": [],
   "source": [
    "figure_count = 0\n",
    "\n",
    "def create_figure(figure_name):\n",
    "    global figure_count\n",
    "    figure_count += 1\n",
    "    return PIC_PATH + f'/figure{figure_count}_{figure_name}.png'"
   ]
  },
  {
   "cell_type": "code",
   "execution_count": 3,
   "metadata": {
    "pycharm": {
     "name": "#%%\n"
    }
   },
   "outputs": [
    {
     "data": {
      "text/html": [
       "<div>\n",
       "<style scoped>\n",
       "    .dataframe tbody tr th:only-of-type {\n",
       "        vertical-align: middle;\n",
       "    }\n",
       "\n",
       "    .dataframe tbody tr th {\n",
       "        vertical-align: top;\n",
       "    }\n",
       "\n",
       "    .dataframe thead th {\n",
       "        text-align: right;\n",
       "    }\n",
       "</style>\n",
       "<table border=\"1\" class=\"dataframe\">\n",
       "  <thead>\n",
       "    <tr style=\"text-align: right;\">\n",
       "      <th></th>\n",
       "      <th>RID</th>\n",
       "      <th>IMAGEUID</th>\n",
       "      <th>Ventricles_bl</th>\n",
       "      <th>Hippocampus</th>\n",
       "      <th>WholeBrain</th>\n",
       "      <th>Entorhinal</th>\n",
       "      <th>Fusiform</th>\n",
       "      <th>MidTemp</th>\n",
       "      <th>ICV</th>\n",
       "      <th>CDRSB</th>\n",
       "      <th>ADAS11</th>\n",
       "      <th>ADAS13</th>\n",
       "      <th>ADASQ4</th>\n",
       "      <th>MMSE</th>\n",
       "      <th>RAVLT_immediate</th>\n",
       "      <th>RAVLT_learning</th>\n",
       "      <th>RAVLT_forgetting</th>\n",
       "      <th>RAVLT_perc_forgetting</th>\n",
       "      <th>DX</th>\n",
       "    </tr>\n",
       "  </thead>\n",
       "  <tbody>\n",
       "    <tr>\n",
       "      <th>0</th>\n",
       "      <td>2</td>\n",
       "      <td>35475</td>\n",
       "      <td>0.0</td>\n",
       "      <td>8336.0</td>\n",
       "      <td>1229740</td>\n",
       "      <td>4177.00</td>\n",
       "      <td>16559</td>\n",
       "      <td>27936</td>\n",
       "      <td>1.984660e+06</td>\n",
       "      <td>0.000</td>\n",
       "      <td>10.6700</td>\n",
       "      <td>18.67</td>\n",
       "      <td>5.00</td>\n",
       "      <td>28.00</td>\n",
       "      <td>44.00</td>\n",
       "      <td>4.00</td>\n",
       "      <td>54.5455</td>\n",
       "      <td>54.545500</td>\n",
       "      <td>CN</td>\n",
       "    </tr>\n",
       "    <tr>\n",
       "      <th>1</th>\n",
       "      <td>3</td>\n",
       "      <td>32237</td>\n",
       "      <td>0.0</td>\n",
       "      <td>5319.0</td>\n",
       "      <td>1129830</td>\n",
       "      <td>1791.00</td>\n",
       "      <td>15506</td>\n",
       "      <td>18422</td>\n",
       "      <td>1.920690e+06</td>\n",
       "      <td>4.500</td>\n",
       "      <td>22.0000</td>\n",
       "      <td>31.00</td>\n",
       "      <td>8.00</td>\n",
       "      <td>20.00</td>\n",
       "      <td>22.00</td>\n",
       "      <td>1.00</td>\n",
       "      <td>100.0000</td>\n",
       "      <td>100.000000</td>\n",
       "      <td>Dementia</td>\n",
       "    </tr>\n",
       "    <tr>\n",
       "      <th>2</th>\n",
       "      <td>3</td>\n",
       "      <td>31863</td>\n",
       "      <td>3981.0</td>\n",
       "      <td>5446.0</td>\n",
       "      <td>1100060</td>\n",
       "      <td>2427.00</td>\n",
       "      <td>14400</td>\n",
       "      <td>16972</td>\n",
       "      <td>1.906430e+06</td>\n",
       "      <td>6.000</td>\n",
       "      <td>19.0000</td>\n",
       "      <td>30.00</td>\n",
       "      <td>10.00</td>\n",
       "      <td>24.00</td>\n",
       "      <td>19.00</td>\n",
       "      <td>2.00</td>\n",
       "      <td>100.0000</td>\n",
       "      <td>100.000000</td>\n",
       "      <td>Dementia</td>\n",
       "    </tr>\n",
       "    <tr>\n",
       "      <th>4</th>\n",
       "      <td>3</td>\n",
       "      <td>88252</td>\n",
       "      <td>12821.0</td>\n",
       "      <td>5139.0</td>\n",
       "      <td>1088560</td>\n",
       "      <td>1175.00</td>\n",
       "      <td>14033</td>\n",
       "      <td>16398</td>\n",
       "      <td>1.903420e+06</td>\n",
       "      <td>8.000</td>\n",
       "      <td>25.6700</td>\n",
       "      <td>37.67</td>\n",
       "      <td>10.00</td>\n",
       "      <td>19.00</td>\n",
       "      <td>23.00</td>\n",
       "      <td>1.00</td>\n",
       "      <td>100.0000</td>\n",
       "      <td>100.000000</td>\n",
       "      <td>Dementia</td>\n",
       "    </tr>\n",
       "    <tr>\n",
       "      <th>5</th>\n",
       "      <td>4</td>\n",
       "      <td>64631</td>\n",
       "      <td>0.0</td>\n",
       "      <td>6869.0</td>\n",
       "      <td>1154980</td>\n",
       "      <td>3983.00</td>\n",
       "      <td>19036</td>\n",
       "      <td>19615</td>\n",
       "      <td>1.679440e+06</td>\n",
       "      <td>1.000</td>\n",
       "      <td>14.3300</td>\n",
       "      <td>21.33</td>\n",
       "      <td>6.00</td>\n",
       "      <td>27.00</td>\n",
       "      <td>37.00</td>\n",
       "      <td>7.00</td>\n",
       "      <td>36.3636</td>\n",
       "      <td>36.363600</td>\n",
       "      <td>MCI</td>\n",
       "    </tr>\n",
       "    <tr>\n",
       "      <th>...</th>\n",
       "      <td>...</td>\n",
       "      <td>...</td>\n",
       "      <td>...</td>\n",
       "      <td>...</td>\n",
       "      <td>...</td>\n",
       "      <td>...</td>\n",
       "      <td>...</td>\n",
       "      <td>...</td>\n",
       "      <td>...</td>\n",
       "      <td>...</td>\n",
       "      <td>...</td>\n",
       "      <td>...</td>\n",
       "      <td>...</td>\n",
       "      <td>...</td>\n",
       "      <td>...</td>\n",
       "      <td>...</td>\n",
       "      <td>...</td>\n",
       "      <td>...</td>\n",
       "      <td>...</td>\n",
       "    </tr>\n",
       "    <tr>\n",
       "      <th>16217</th>\n",
       "      <td>6080</td>\n",
       "      <td>1561905</td>\n",
       "      <td>9671.6</td>\n",
       "      <td>5844.5</td>\n",
       "      <td>763230</td>\n",
       "      <td>3742.73</td>\n",
       "      <td>17497</td>\n",
       "      <td>16258</td>\n",
       "      <td>1.530382e+06</td>\n",
       "      <td>12.079</td>\n",
       "      <td>10.2969</td>\n",
       "      <td>15.00</td>\n",
       "      <td>4.17</td>\n",
       "      <td>27.76</td>\n",
       "      <td>28.46</td>\n",
       "      <td>2.59</td>\n",
       "      <td>100.0000</td>\n",
       "      <td>84.244048</td>\n",
       "      <td>CN</td>\n",
       "    </tr>\n",
       "    <tr>\n",
       "      <th>16218</th>\n",
       "      <td>6473</td>\n",
       "      <td>1480313</td>\n",
       "      <td>7609.2</td>\n",
       "      <td>7407.3</td>\n",
       "      <td>891369</td>\n",
       "      <td>3742.73</td>\n",
       "      <td>18561</td>\n",
       "      <td>23943</td>\n",
       "      <td>1.530382e+06</td>\n",
       "      <td>0.000</td>\n",
       "      <td>4.6700</td>\n",
       "      <td>8.67</td>\n",
       "      <td>4.00</td>\n",
       "      <td>30.00</td>\n",
       "      <td>50.00</td>\n",
       "      <td>11.00</td>\n",
       "      <td>64.2857</td>\n",
       "      <td>35.714300</td>\n",
       "      <td>CN</td>\n",
       "    </tr>\n",
       "    <tr>\n",
       "      <th>16219</th>\n",
       "      <td>6498</td>\n",
       "      <td>1534037</td>\n",
       "      <td>4454.6</td>\n",
       "      <td>8723.0</td>\n",
       "      <td>1174040</td>\n",
       "      <td>3742.73</td>\n",
       "      <td>20364</td>\n",
       "      <td>24571</td>\n",
       "      <td>1.530382e+06</td>\n",
       "      <td>1.730</td>\n",
       "      <td>11.4894</td>\n",
       "      <td>17.33</td>\n",
       "      <td>4.79</td>\n",
       "      <td>27.36</td>\n",
       "      <td>34.91</td>\n",
       "      <td>4.25</td>\n",
       "      <td>18.1818</td>\n",
       "      <td>46.890253</td>\n",
       "      <td>MCI</td>\n",
       "    </tr>\n",
       "    <tr>\n",
       "      <th>16220</th>\n",
       "      <td>4119</td>\n",
       "      <td>1514449</td>\n",
       "      <td>19359.4</td>\n",
       "      <td>6633.6</td>\n",
       "      <td>1039820</td>\n",
       "      <td>3742.73</td>\n",
       "      <td>20658</td>\n",
       "      <td>22523</td>\n",
       "      <td>1.530382e+06</td>\n",
       "      <td>0.905</td>\n",
       "      <td>4.5400</td>\n",
       "      <td>7.00</td>\n",
       "      <td>2.38</td>\n",
       "      <td>28.76</td>\n",
       "      <td>44.91</td>\n",
       "      <td>5.81</td>\n",
       "      <td>75.0000</td>\n",
       "      <td>61.636017</td>\n",
       "      <td>CN</td>\n",
       "    </tr>\n",
       "    <tr>\n",
       "      <th>16221</th>\n",
       "      <td>6067</td>\n",
       "      <td>1558652</td>\n",
       "      <td>6901.0</td>\n",
       "      <td>7594.9</td>\n",
       "      <td>989993</td>\n",
       "      <td>3742.73</td>\n",
       "      <td>16343</td>\n",
       "      <td>19325</td>\n",
       "      <td>1.530382e+06</td>\n",
       "      <td>0.175</td>\n",
       "      <td>5.5655</td>\n",
       "      <td>11.33</td>\n",
       "      <td>4.54</td>\n",
       "      <td>28.57</td>\n",
       "      <td>42.82</td>\n",
       "      <td>4.37</td>\n",
       "      <td>0.0000</td>\n",
       "      <td>25.331299</td>\n",
       "      <td>CN</td>\n",
       "    </tr>\n",
       "  </tbody>\n",
       "</table>\n",
       "<p>14893 rows × 19 columns</p>\n",
       "</div>"
      ],
      "text/plain": [
       "        RID  IMAGEUID  Ventricles_bl  Hippocampus  WholeBrain  Entorhinal  \\\n",
       "0         2     35475            0.0       8336.0     1229740     4177.00   \n",
       "1         3     32237            0.0       5319.0     1129830     1791.00   \n",
       "2         3     31863         3981.0       5446.0     1100060     2427.00   \n",
       "4         3     88252        12821.0       5139.0     1088560     1175.00   \n",
       "5         4     64631            0.0       6869.0     1154980     3983.00   \n",
       "...     ...       ...            ...          ...         ...         ...   \n",
       "16217  6080   1561905         9671.6       5844.5      763230     3742.73   \n",
       "16218  6473   1480313         7609.2       7407.3      891369     3742.73   \n",
       "16219  6498   1534037         4454.6       8723.0     1174040     3742.73   \n",
       "16220  4119   1514449        19359.4       6633.6     1039820     3742.73   \n",
       "16221  6067   1558652         6901.0       7594.9      989993     3742.73   \n",
       "\n",
       "       Fusiform  MidTemp           ICV   CDRSB   ADAS11  ADAS13  ADASQ4  \\\n",
       "0         16559    27936  1.984660e+06   0.000  10.6700   18.67    5.00   \n",
       "1         15506    18422  1.920690e+06   4.500  22.0000   31.00    8.00   \n",
       "2         14400    16972  1.906430e+06   6.000  19.0000   30.00   10.00   \n",
       "4         14033    16398  1.903420e+06   8.000  25.6700   37.67   10.00   \n",
       "5         19036    19615  1.679440e+06   1.000  14.3300   21.33    6.00   \n",
       "...         ...      ...           ...     ...      ...     ...     ...   \n",
       "16217     17497    16258  1.530382e+06  12.079  10.2969   15.00    4.17   \n",
       "16218     18561    23943  1.530382e+06   0.000   4.6700    8.67    4.00   \n",
       "16219     20364    24571  1.530382e+06   1.730  11.4894   17.33    4.79   \n",
       "16220     20658    22523  1.530382e+06   0.905   4.5400    7.00    2.38   \n",
       "16221     16343    19325  1.530382e+06   0.175   5.5655   11.33    4.54   \n",
       "\n",
       "        MMSE  RAVLT_immediate  RAVLT_learning  RAVLT_forgetting  \\\n",
       "0      28.00            44.00            4.00           54.5455   \n",
       "1      20.00            22.00            1.00          100.0000   \n",
       "2      24.00            19.00            2.00          100.0000   \n",
       "4      19.00            23.00            1.00          100.0000   \n",
       "5      27.00            37.00            7.00           36.3636   \n",
       "...      ...              ...             ...               ...   \n",
       "16217  27.76            28.46            2.59          100.0000   \n",
       "16218  30.00            50.00           11.00           64.2857   \n",
       "16219  27.36            34.91            4.25           18.1818   \n",
       "16220  28.76            44.91            5.81           75.0000   \n",
       "16221  28.57            42.82            4.37            0.0000   \n",
       "\n",
       "       RAVLT_perc_forgetting        DX  \n",
       "0                  54.545500        CN  \n",
       "1                 100.000000  Dementia  \n",
       "2                 100.000000  Dementia  \n",
       "4                 100.000000  Dementia  \n",
       "5                  36.363600       MCI  \n",
       "...                      ...       ...  \n",
       "16217              84.244048        CN  \n",
       "16218              35.714300        CN  \n",
       "16219              46.890253       MCI  \n",
       "16220              61.636017        CN  \n",
       "16221              25.331299        CN  \n",
       "\n",
       "[14893 rows x 19 columns]"
      ]
     },
     "execution_count": 3,
     "metadata": {},
     "output_type": "execute_result"
    }
   ],
   "source": [
    "data = pd.read_excel(RESULT_PATH + '/data_clean.xlsx', index_col=0)\n",
    "data"
   ]
  },
  {
   "cell_type": "code",
   "execution_count": 4,
   "metadata": {
    "pycharm": {
     "name": "#%%\n"
    }
   },
   "outputs": [
    {
     "data": {
      "text/html": [
       "<div>\n",
       "<style scoped>\n",
       "    .dataframe tbody tr th:only-of-type {\n",
       "        vertical-align: middle;\n",
       "    }\n",
       "\n",
       "    .dataframe tbody tr th {\n",
       "        vertical-align: top;\n",
       "    }\n",
       "\n",
       "    .dataframe thead th {\n",
       "        text-align: right;\n",
       "    }\n",
       "</style>\n",
       "<table border=\"1\" class=\"dataframe\">\n",
       "  <thead>\n",
       "    <tr style=\"text-align: right;\">\n",
       "      <th></th>\n",
       "      <th>RID</th>\n",
       "      <th>COLPROT</th>\n",
       "      <th>ORIGPROT</th>\n",
       "      <th>PTID</th>\n",
       "      <th>SITE</th>\n",
       "      <th>VISCODE</th>\n",
       "      <th>EXAMDATE</th>\n",
       "      <th>DX_bl</th>\n",
       "      <th>AGE</th>\n",
       "      <th>PTGENDER</th>\n",
       "      <th>...</th>\n",
       "      <th>Hippocampus_bl</th>\n",
       "      <th>WholeBrain_bl</th>\n",
       "      <th>Entorhinal_bl</th>\n",
       "      <th>Fusiform_bl</th>\n",
       "      <th>MidTemp_bl</th>\n",
       "      <th>ICV_bl</th>\n",
       "      <th>MOCA_bl</th>\n",
       "      <th>EcogPtTotal_bl</th>\n",
       "      <th>EcogSPTotal_bl</th>\n",
       "      <th>Month_bl</th>\n",
       "    </tr>\n",
       "  </thead>\n",
       "  <tbody>\n",
       "    <tr>\n",
       "      <th>0</th>\n",
       "      <td>2</td>\n",
       "      <td>1</td>\n",
       "      <td>1</td>\n",
       "      <td>011_S_0002</td>\n",
       "      <td>11</td>\n",
       "      <td>0</td>\n",
       "      <td>2005-09-08</td>\n",
       "      <td>CN</td>\n",
       "      <td>74.3</td>\n",
       "      <td>0</td>\n",
       "      <td>...</td>\n",
       "      <td>0.0</td>\n",
       "      <td>0</td>\n",
       "      <td>0</td>\n",
       "      <td>0</td>\n",
       "      <td>0</td>\n",
       "      <td>0</td>\n",
       "      <td>-23</td>\n",
       "      <td>-1.78947</td>\n",
       "      <td>-1.39474</td>\n",
       "      <td>0.00000</td>\n",
       "    </tr>\n",
       "    <tr>\n",
       "      <th>1</th>\n",
       "      <td>3</td>\n",
       "      <td>1</td>\n",
       "      <td>1</td>\n",
       "      <td>011_S_0003</td>\n",
       "      <td>11</td>\n",
       "      <td>0</td>\n",
       "      <td>2005-09-12</td>\n",
       "      <td>AD</td>\n",
       "      <td>81.3</td>\n",
       "      <td>0</td>\n",
       "      <td>...</td>\n",
       "      <td>0.0</td>\n",
       "      <td>0</td>\n",
       "      <td>0</td>\n",
       "      <td>0</td>\n",
       "      <td>0</td>\n",
       "      <td>0</td>\n",
       "      <td>-19</td>\n",
       "      <td>-2.69231</td>\n",
       "      <td>-3.09677</td>\n",
       "      <td>0.00000</td>\n",
       "    </tr>\n",
       "    <tr>\n",
       "      <th>2</th>\n",
       "      <td>3</td>\n",
       "      <td>1</td>\n",
       "      <td>1</td>\n",
       "      <td>011_S_0003</td>\n",
       "      <td>11</td>\n",
       "      <td>6</td>\n",
       "      <td>2006-03-13</td>\n",
       "      <td>AD</td>\n",
       "      <td>81.3</td>\n",
       "      <td>0</td>\n",
       "      <td>...</td>\n",
       "      <td>127.0</td>\n",
       "      <td>-29770</td>\n",
       "      <td>636</td>\n",
       "      <td>-1106</td>\n",
       "      <td>-1450</td>\n",
       "      <td>-14260</td>\n",
       "      <td>-19</td>\n",
       "      <td>-2.69231</td>\n",
       "      <td>-3.09677</td>\n",
       "      <td>0.03279</td>\n",
       "    </tr>\n",
       "    <tr>\n",
       "      <th>3</th>\n",
       "      <td>3</td>\n",
       "      <td>1</td>\n",
       "      <td>1</td>\n",
       "      <td>011_S_0003</td>\n",
       "      <td>11</td>\n",
       "      <td>12</td>\n",
       "      <td>2006-09-12</td>\n",
       "      <td>AD</td>\n",
       "      <td>81.3</td>\n",
       "      <td>0</td>\n",
       "      <td>...</td>\n",
       "      <td>-162.0</td>\n",
       "      <td>-34190</td>\n",
       "      <td>-195</td>\n",
       "      <td>-889</td>\n",
       "      <td>-1092</td>\n",
       "      <td>-16870</td>\n",
       "      <td>-19</td>\n",
       "      <td>-2.69231</td>\n",
       "      <td>-3.09677</td>\n",
       "      <td>0.03280</td>\n",
       "    </tr>\n",
       "    <tr>\n",
       "      <th>4</th>\n",
       "      <td>3</td>\n",
       "      <td>1</td>\n",
       "      <td>1</td>\n",
       "      <td>011_S_0003</td>\n",
       "      <td>11</td>\n",
       "      <td>24</td>\n",
       "      <td>2007-09-12</td>\n",
       "      <td>AD</td>\n",
       "      <td>81.3</td>\n",
       "      <td>0</td>\n",
       "      <td>...</td>\n",
       "      <td>-180.0</td>\n",
       "      <td>-41270</td>\n",
       "      <td>-616</td>\n",
       "      <td>-1473</td>\n",
       "      <td>-2024</td>\n",
       "      <td>-17270</td>\n",
       "      <td>-19</td>\n",
       "      <td>-2.69231</td>\n",
       "      <td>-3.09677</td>\n",
       "      <td>0.06560</td>\n",
       "    </tr>\n",
       "    <tr>\n",
       "      <th>...</th>\n",
       "      <td>...</td>\n",
       "      <td>...</td>\n",
       "      <td>...</td>\n",
       "      <td>...</td>\n",
       "      <td>...</td>\n",
       "      <td>...</td>\n",
       "      <td>...</td>\n",
       "      <td>...</td>\n",
       "      <td>...</td>\n",
       "      <td>...</td>\n",
       "      <td>...</td>\n",
       "      <td>...</td>\n",
       "      <td>...</td>\n",
       "      <td>...</td>\n",
       "      <td>...</td>\n",
       "      <td>...</td>\n",
       "      <td>...</td>\n",
       "      <td>...</td>\n",
       "      <td>...</td>\n",
       "      <td>...</td>\n",
       "      <td>...</td>\n",
       "    </tr>\n",
       "    <tr>\n",
       "      <th>16217</th>\n",
       "      <td>6080</td>\n",
       "      <td>4</td>\n",
       "      <td>4</td>\n",
       "      <td>941_S_6080</td>\n",
       "      <td>941</td>\n",
       "      <td>60</td>\n",
       "      <td>2022-11-04</td>\n",
       "      <td>SMC</td>\n",
       "      <td>76.8</td>\n",
       "      <td>1</td>\n",
       "      <td>...</td>\n",
       "      <td>-437.9</td>\n",
       "      <td>-84410</td>\n",
       "      <td>-3845</td>\n",
       "      <td>619</td>\n",
       "      <td>390</td>\n",
       "      <td>-1264050</td>\n",
       "      <td>-24</td>\n",
       "      <td>-1.50000</td>\n",
       "      <td>-1.10526</td>\n",
       "      <td>-0.49180</td>\n",
       "    </tr>\n",
       "    <tr>\n",
       "      <th>16218</th>\n",
       "      <td>6473</td>\n",
       "      <td>4</td>\n",
       "      <td>4</td>\n",
       "      <td>135_S_6473</td>\n",
       "      <td>135</td>\n",
       "      <td>48</td>\n",
       "      <td>2022-11-01</td>\n",
       "      <td>CN</td>\n",
       "      <td>66.1</td>\n",
       "      <td>1</td>\n",
       "      <td>...</td>\n",
       "      <td>1062.4</td>\n",
       "      <td>-53586</td>\n",
       "      <td>-3915</td>\n",
       "      <td>596</td>\n",
       "      <td>-760</td>\n",
       "      <td>-1290220</td>\n",
       "      <td>-2</td>\n",
       "      <td>0.28948</td>\n",
       "      <td>-0.21052</td>\n",
       "      <td>-0.42620</td>\n",
       "    </tr>\n",
       "    <tr>\n",
       "      <th>16219</th>\n",
       "      <td>6498</td>\n",
       "      <td>4</td>\n",
       "      <td>4</td>\n",
       "      <td>305_S_6498</td>\n",
       "      <td>305</td>\n",
       "      <td>48</td>\n",
       "      <td>2022-11-07</td>\n",
       "      <td>EMCI</td>\n",
       "      <td>79.4</td>\n",
       "      <td>0</td>\n",
       "      <td>...</td>\n",
       "      <td>-196.4</td>\n",
       "      <td>-58780</td>\n",
       "      <td>-5940</td>\n",
       "      <td>-1054</td>\n",
       "      <td>612</td>\n",
       "      <td>-1720260</td>\n",
       "      <td>-26</td>\n",
       "      <td>-1.43243</td>\n",
       "      <td>-1.26316</td>\n",
       "      <td>-1.31150</td>\n",
       "    </tr>\n",
       "    <tr>\n",
       "      <th>16220</th>\n",
       "      <td>4119</td>\n",
       "      <td>4</td>\n",
       "      <td>2</td>\n",
       "      <td>003_S_4119</td>\n",
       "      <td>3</td>\n",
       "      <td>132</td>\n",
       "      <td>2022-11-10</td>\n",
       "      <td>CN</td>\n",
       "      <td>79.3</td>\n",
       "      <td>0</td>\n",
       "      <td>...</td>\n",
       "      <td>-640.4</td>\n",
       "      <td>-75320</td>\n",
       "      <td>-4204</td>\n",
       "      <td>-1470</td>\n",
       "      <td>1026</td>\n",
       "      <td>-1546640</td>\n",
       "      <td>-27</td>\n",
       "      <td>-1.28205</td>\n",
       "      <td>-1.17949</td>\n",
       "      <td>-2.49200</td>\n",
       "    </tr>\n",
       "    <tr>\n",
       "      <th>16221</th>\n",
       "      <td>6067</td>\n",
       "      <td>4</td>\n",
       "      <td>4</td>\n",
       "      <td>003_S_6067</td>\n",
       "      <td>3</td>\n",
       "      <td>60</td>\n",
       "      <td>2022-11-10</td>\n",
       "      <td>CN</td>\n",
       "      <td>63.1</td>\n",
       "      <td>1</td>\n",
       "      <td>...</td>\n",
       "      <td>-727.7</td>\n",
       "      <td>-34857</td>\n",
       "      <td>-5161</td>\n",
       "      <td>-950</td>\n",
       "      <td>-1006</td>\n",
       "      <td>-1377110</td>\n",
       "      <td>-29</td>\n",
       "      <td>-1.07895</td>\n",
       "      <td>-1.00000</td>\n",
       "      <td>-0.78690</td>\n",
       "    </tr>\n",
       "  </tbody>\n",
       "</table>\n",
       "<p>15883 rows × 106 columns</p>\n",
       "</div>"
      ],
      "text/plain": [
       "        RID  COLPROT  ORIGPROT        PTID  SITE  VISCODE   EXAMDATE DX_bl  \\\n",
       "0         2        1         1  011_S_0002    11        0 2005-09-08    CN   \n",
       "1         3        1         1  011_S_0003    11        0 2005-09-12    AD   \n",
       "2         3        1         1  011_S_0003    11        6 2006-03-13    AD   \n",
       "3         3        1         1  011_S_0003    11       12 2006-09-12    AD   \n",
       "4         3        1         1  011_S_0003    11       24 2007-09-12    AD   \n",
       "...     ...      ...       ...         ...   ...      ...        ...   ...   \n",
       "16217  6080        4         4  941_S_6080   941       60 2022-11-04   SMC   \n",
       "16218  6473        4         4  135_S_6473   135       48 2022-11-01    CN   \n",
       "16219  6498        4         4  305_S_6498   305       48 2022-11-07  EMCI   \n",
       "16220  4119        4         2  003_S_4119     3      132 2022-11-10    CN   \n",
       "16221  6067        4         4  003_S_6067     3       60 2022-11-10    CN   \n",
       "\n",
       "        AGE  PTGENDER  ...  Hippocampus_bl  WholeBrain_bl Entorhinal_bl  \\\n",
       "0      74.3         0  ...             0.0              0             0   \n",
       "1      81.3         0  ...             0.0              0             0   \n",
       "2      81.3         0  ...           127.0         -29770           636   \n",
       "3      81.3         0  ...          -162.0         -34190          -195   \n",
       "4      81.3         0  ...          -180.0         -41270          -616   \n",
       "...     ...       ...  ...             ...            ...           ...   \n",
       "16217  76.8         1  ...          -437.9         -84410         -3845   \n",
       "16218  66.1         1  ...          1062.4         -53586         -3915   \n",
       "16219  79.4         0  ...          -196.4         -58780         -5940   \n",
       "16220  79.3         0  ...          -640.4         -75320         -4204   \n",
       "16221  63.1         1  ...          -727.7         -34857         -5161   \n",
       "\n",
       "      Fusiform_bl  MidTemp_bl   ICV_bl  MOCA_bl  EcogPtTotal_bl  \\\n",
       "0               0           0        0      -23        -1.78947   \n",
       "1               0           0        0      -19        -2.69231   \n",
       "2           -1106       -1450   -14260      -19        -2.69231   \n",
       "3            -889       -1092   -16870      -19        -2.69231   \n",
       "4           -1473       -2024   -17270      -19        -2.69231   \n",
       "...           ...         ...      ...      ...             ...   \n",
       "16217         619         390 -1264050      -24        -1.50000   \n",
       "16218         596        -760 -1290220       -2         0.28948   \n",
       "16219       -1054         612 -1720260      -26        -1.43243   \n",
       "16220       -1470        1026 -1546640      -27        -1.28205   \n",
       "16221        -950       -1006 -1377110      -29        -1.07895   \n",
       "\n",
       "       EcogSPTotal_bl  Month_bl  \n",
       "0            -1.39474   0.00000  \n",
       "1            -3.09677   0.00000  \n",
       "2            -3.09677   0.03279  \n",
       "3            -3.09677   0.03280  \n",
       "4            -3.09677   0.06560  \n",
       "...               ...       ...  \n",
       "16217        -1.10526  -0.49180  \n",
       "16218        -0.21052  -0.42620  \n",
       "16219        -1.26316  -1.31150  \n",
       "16220        -1.17949  -2.49200  \n",
       "16221        -1.00000  -0.78690  \n",
       "\n",
       "[15883 rows x 106 columns]"
      ]
     },
     "execution_count": 4,
     "metadata": {},
     "output_type": "execute_result"
    }
   ],
   "source": [
    "data_whole = pd.read_excel(RESULT_PATH + '/evolve_data.xlsx', index_col=0)\n",
    "data_whole"
   ]
  },
  {
   "cell_type": "code",
   "execution_count": 5,
   "metadata": {
    "pycharm": {
     "name": "#%%\n"
    }
   },
   "outputs": [
    {
     "data": {
      "text/html": [
       "<div>\n",
       "<style scoped>\n",
       "    .dataframe tbody tr th:only-of-type {\n",
       "        vertical-align: middle;\n",
       "    }\n",
       "\n",
       "    .dataframe tbody tr th {\n",
       "        vertical-align: top;\n",
       "    }\n",
       "\n",
       "    .dataframe thead th {\n",
       "        text-align: right;\n",
       "    }\n",
       "</style>\n",
       "<table border=\"1\" class=\"dataframe\">\n",
       "  <thead>\n",
       "    <tr style=\"text-align: right;\">\n",
       "      <th></th>\n",
       "      <th>DX_bl</th>\n",
       "      <th>IMAGEUID</th>\n",
       "      <th>Ventricles</th>\n",
       "      <th>Hippocampus</th>\n",
       "      <th>WholeBrain</th>\n",
       "      <th>Entorhinal</th>\n",
       "      <th>Fusiform</th>\n",
       "      <th>MidTemp</th>\n",
       "      <th>ICV</th>\n",
       "      <th>CDRSB_bl</th>\n",
       "      <th>...</th>\n",
       "      <th>RAVLT_forgetting_bl</th>\n",
       "      <th>RAVLT_perc_forgetting_bl</th>\n",
       "      <th>IMAGEUID_bl</th>\n",
       "      <th>Ventricles_bl</th>\n",
       "      <th>Hippocampus_bl</th>\n",
       "      <th>WholeBrain_bl</th>\n",
       "      <th>Entorhinal_bl</th>\n",
       "      <th>Fusiform_bl</th>\n",
       "      <th>MidTemp_bl</th>\n",
       "      <th>ICV_bl</th>\n",
       "    </tr>\n",
       "  </thead>\n",
       "  <tbody>\n",
       "    <tr>\n",
       "      <th>0</th>\n",
       "      <td>CN</td>\n",
       "      <td>35475</td>\n",
       "      <td>118233.0</td>\n",
       "      <td>8336.0</td>\n",
       "      <td>1229740</td>\n",
       "      <td>4177.0</td>\n",
       "      <td>16559</td>\n",
       "      <td>27936</td>\n",
       "      <td>1984660.0</td>\n",
       "      <td>0.0</td>\n",
       "      <td>...</td>\n",
       "      <td>48.5455</td>\n",
       "      <td>0.0000</td>\n",
       "      <td>0</td>\n",
       "      <td>0.0</td>\n",
       "      <td>0.0</td>\n",
       "      <td>0</td>\n",
       "      <td>0</td>\n",
       "      <td>0</td>\n",
       "      <td>0</td>\n",
       "      <td>0</td>\n",
       "    </tr>\n",
       "    <tr>\n",
       "      <th>1</th>\n",
       "      <td>AD</td>\n",
       "      <td>32237</td>\n",
       "      <td>84599.0</td>\n",
       "      <td>5319.0</td>\n",
       "      <td>1129830</td>\n",
       "      <td>1791.0</td>\n",
       "      <td>15506</td>\n",
       "      <td>18422</td>\n",
       "      <td>1920690.0</td>\n",
       "      <td>0.0</td>\n",
       "      <td>...</td>\n",
       "      <td>96.0000</td>\n",
       "      <td>0.0000</td>\n",
       "      <td>0</td>\n",
       "      <td>0.0</td>\n",
       "      <td>0.0</td>\n",
       "      <td>0</td>\n",
       "      <td>0</td>\n",
       "      <td>0</td>\n",
       "      <td>0</td>\n",
       "      <td>0</td>\n",
       "    </tr>\n",
       "    <tr>\n",
       "      <th>2</th>\n",
       "      <td>AD</td>\n",
       "      <td>31863</td>\n",
       "      <td>88580.0</td>\n",
       "      <td>5446.0</td>\n",
       "      <td>1100060</td>\n",
       "      <td>2427.0</td>\n",
       "      <td>14400</td>\n",
       "      <td>16972</td>\n",
       "      <td>1906430.0</td>\n",
       "      <td>1.5</td>\n",
       "      <td>...</td>\n",
       "      <td>96.0000</td>\n",
       "      <td>0.0000</td>\n",
       "      <td>-374</td>\n",
       "      <td>3981.0</td>\n",
       "      <td>127.0</td>\n",
       "      <td>-29770</td>\n",
       "      <td>636</td>\n",
       "      <td>-1106</td>\n",
       "      <td>-1450</td>\n",
       "      <td>-14260</td>\n",
       "    </tr>\n",
       "    <tr>\n",
       "      <th>3</th>\n",
       "      <td>AD</td>\n",
       "      <td>35576</td>\n",
       "      <td>90099.0</td>\n",
       "      <td>5157.0</td>\n",
       "      <td>1095640</td>\n",
       "      <td>1596.0</td>\n",
       "      <td>14617</td>\n",
       "      <td>17330</td>\n",
       "      <td>1903820.0</td>\n",
       "      <td>-1.0</td>\n",
       "      <td>...</td>\n",
       "      <td>96.0000</td>\n",
       "      <td>0.0000</td>\n",
       "      <td>3339</td>\n",
       "      <td>5500.0</td>\n",
       "      <td>-162.0</td>\n",
       "      <td>-34190</td>\n",
       "      <td>-195</td>\n",
       "      <td>-889</td>\n",
       "      <td>-1092</td>\n",
       "      <td>-16870</td>\n",
       "    </tr>\n",
       "    <tr>\n",
       "      <th>4</th>\n",
       "      <td>AD</td>\n",
       "      <td>88252</td>\n",
       "      <td>97420.0</td>\n",
       "      <td>5139.0</td>\n",
       "      <td>1088560</td>\n",
       "      <td>1175.0</td>\n",
       "      <td>14033</td>\n",
       "      <td>16398</td>\n",
       "      <td>1903420.0</td>\n",
       "      <td>3.5</td>\n",
       "      <td>...</td>\n",
       "      <td>96.0000</td>\n",
       "      <td>0.0000</td>\n",
       "      <td>56015</td>\n",
       "      <td>12821.0</td>\n",
       "      <td>-180.0</td>\n",
       "      <td>-41270</td>\n",
       "      <td>-616</td>\n",
       "      <td>-1473</td>\n",
       "      <td>-2024</td>\n",
       "      <td>-17270</td>\n",
       "    </tr>\n",
       "    <tr>\n",
       "      <th>...</th>\n",
       "      <td>...</td>\n",
       "      <td>...</td>\n",
       "      <td>...</td>\n",
       "      <td>...</td>\n",
       "      <td>...</td>\n",
       "      <td>...</td>\n",
       "      <td>...</td>\n",
       "      <td>...</td>\n",
       "      <td>...</td>\n",
       "      <td>...</td>\n",
       "      <td>...</td>\n",
       "      <td>...</td>\n",
       "      <td>...</td>\n",
       "      <td>...</td>\n",
       "      <td>...</td>\n",
       "      <td>...</td>\n",
       "      <td>...</td>\n",
       "      <td>...</td>\n",
       "      <td>...</td>\n",
       "      <td>...</td>\n",
       "      <td>...</td>\n",
       "    </tr>\n",
       "    <tr>\n",
       "      <th>16217</th>\n",
       "      <td>SMC</td>\n",
       "      <td>1561905</td>\n",
       "      <td>47744.0</td>\n",
       "      <td>5844.5</td>\n",
       "      <td>763230</td>\n",
       "      <td>NaN</td>\n",
       "      <td>17497</td>\n",
       "      <td>16258</td>\n",
       "      <td>NaN</td>\n",
       "      <td>0.0</td>\n",
       "      <td>...</td>\n",
       "      <td>94.0000</td>\n",
       "      <td>-100.0000</td>\n",
       "      <td>648672</td>\n",
       "      <td>9671.6</td>\n",
       "      <td>-437.9</td>\n",
       "      <td>-84410</td>\n",
       "      <td>-3845</td>\n",
       "      <td>619</td>\n",
       "      <td>390</td>\n",
       "      <td>-1264050</td>\n",
       "    </tr>\n",
       "    <tr>\n",
       "      <th>16218</th>\n",
       "      <td>CN</td>\n",
       "      <td>1480313</td>\n",
       "      <td>34835.0</td>\n",
       "      <td>7407.3</td>\n",
       "      <td>891369</td>\n",
       "      <td>NaN</td>\n",
       "      <td>18561</td>\n",
       "      <td>23943</td>\n",
       "      <td>NaN</td>\n",
       "      <td>0.0</td>\n",
       "      <td>...</td>\n",
       "      <td>55.2857</td>\n",
       "      <td>-28.5714</td>\n",
       "      <td>464501</td>\n",
       "      <td>7609.2</td>\n",
       "      <td>1062.4</td>\n",
       "      <td>-53586</td>\n",
       "      <td>-3915</td>\n",
       "      <td>596</td>\n",
       "      <td>-760</td>\n",
       "      <td>-1290220</td>\n",
       "    </tr>\n",
       "    <tr>\n",
       "      <th>16219</th>\n",
       "      <td>EMCI</td>\n",
       "      <td>1534037</td>\n",
       "      <td>24465.0</td>\n",
       "      <td>8723.0</td>\n",
       "      <td>1174040</td>\n",
       "      <td>NaN</td>\n",
       "      <td>20364</td>\n",
       "      <td>24571</td>\n",
       "      <td>NaN</td>\n",
       "      <td>-0.5</td>\n",
       "      <td>...</td>\n",
       "      <td>16.1818</td>\n",
       "      <td>-18.1818</td>\n",
       "      <td>514756</td>\n",
       "      <td>4454.6</td>\n",
       "      <td>-196.4</td>\n",
       "      <td>-58780</td>\n",
       "      <td>-5940</td>\n",
       "      <td>-1054</td>\n",
       "      <td>612</td>\n",
       "      <td>-1720260</td>\n",
       "    </tr>\n",
       "    <tr>\n",
       "      <th>16220</th>\n",
       "      <td>CN</td>\n",
       "      <td>1514449</td>\n",
       "      <td>58165.4</td>\n",
       "      <td>6633.6</td>\n",
       "      <td>1039820</td>\n",
       "      <td>NaN</td>\n",
       "      <td>20658</td>\n",
       "      <td>22523</td>\n",
       "      <td>NaN</td>\n",
       "      <td>0.0</td>\n",
       "      <td>...</td>\n",
       "      <td>69.0000</td>\n",
       "      <td>-75.0000</td>\n",
       "      <td>1259693</td>\n",
       "      <td>19359.4</td>\n",
       "      <td>-640.4</td>\n",
       "      <td>-75320</td>\n",
       "      <td>-4204</td>\n",
       "      <td>-1470</td>\n",
       "      <td>1026</td>\n",
       "      <td>-1546640</td>\n",
       "    </tr>\n",
       "    <tr>\n",
       "      <th>16221</th>\n",
       "      <td>CN</td>\n",
       "      <td>1558652</td>\n",
       "      <td>25383.1</td>\n",
       "      <td>7594.9</td>\n",
       "      <td>989993</td>\n",
       "      <td>NaN</td>\n",
       "      <td>16343</td>\n",
       "      <td>19325</td>\n",
       "      <td>NaN</td>\n",
       "      <td>0.0</td>\n",
       "      <td>...</td>\n",
       "      <td>2.0000</td>\n",
       "      <td>18.1818</td>\n",
       "      <td>646205</td>\n",
       "      <td>6901.0</td>\n",
       "      <td>-727.7</td>\n",
       "      <td>-34857</td>\n",
       "      <td>-5161</td>\n",
       "      <td>-950</td>\n",
       "      <td>-1006</td>\n",
       "      <td>-1377110</td>\n",
       "    </tr>\n",
       "  </tbody>\n",
       "</table>\n",
       "<p>15883 rows × 26 columns</p>\n",
       "</div>"
      ],
      "text/plain": [
       "      DX_bl  IMAGEUID  Ventricles  Hippocampus  WholeBrain  Entorhinal  \\\n",
       "0        CN     35475    118233.0       8336.0     1229740      4177.0   \n",
       "1        AD     32237     84599.0       5319.0     1129830      1791.0   \n",
       "2        AD     31863     88580.0       5446.0     1100060      2427.0   \n",
       "3        AD     35576     90099.0       5157.0     1095640      1596.0   \n",
       "4        AD     88252     97420.0       5139.0     1088560      1175.0   \n",
       "...     ...       ...         ...          ...         ...         ...   \n",
       "16217   SMC   1561905     47744.0       5844.5      763230         NaN   \n",
       "16218    CN   1480313     34835.0       7407.3      891369         NaN   \n",
       "16219  EMCI   1534037     24465.0       8723.0     1174040         NaN   \n",
       "16220    CN   1514449     58165.4       6633.6     1039820         NaN   \n",
       "16221    CN   1558652     25383.1       7594.9      989993         NaN   \n",
       "\n",
       "       Fusiform  MidTemp        ICV  CDRSB_bl  ...  RAVLT_forgetting_bl  \\\n",
       "0         16559    27936  1984660.0       0.0  ...              48.5455   \n",
       "1         15506    18422  1920690.0       0.0  ...              96.0000   \n",
       "2         14400    16972  1906430.0       1.5  ...              96.0000   \n",
       "3         14617    17330  1903820.0      -1.0  ...              96.0000   \n",
       "4         14033    16398  1903420.0       3.5  ...              96.0000   \n",
       "...         ...      ...        ...       ...  ...                  ...   \n",
       "16217     17497    16258        NaN       0.0  ...              94.0000   \n",
       "16218     18561    23943        NaN       0.0  ...              55.2857   \n",
       "16219     20364    24571        NaN      -0.5  ...              16.1818   \n",
       "16220     20658    22523        NaN       0.0  ...              69.0000   \n",
       "16221     16343    19325        NaN       0.0  ...               2.0000   \n",
       "\n",
       "       RAVLT_perc_forgetting_bl  IMAGEUID_bl  Ventricles_bl  Hippocampus_bl  \\\n",
       "0                        0.0000            0            0.0             0.0   \n",
       "1                        0.0000            0            0.0             0.0   \n",
       "2                        0.0000         -374         3981.0           127.0   \n",
       "3                        0.0000         3339         5500.0          -162.0   \n",
       "4                        0.0000        56015        12821.0          -180.0   \n",
       "...                         ...          ...            ...             ...   \n",
       "16217                 -100.0000       648672         9671.6          -437.9   \n",
       "16218                  -28.5714       464501         7609.2          1062.4   \n",
       "16219                  -18.1818       514756         4454.6          -196.4   \n",
       "16220                  -75.0000      1259693        19359.4          -640.4   \n",
       "16221                   18.1818       646205         6901.0          -727.7   \n",
       "\n",
       "       WholeBrain_bl  Entorhinal_bl  Fusiform_bl  MidTemp_bl   ICV_bl  \n",
       "0                  0              0            0           0        0  \n",
       "1                  0              0            0           0        0  \n",
       "2             -29770            636        -1106       -1450   -14260  \n",
       "3             -34190           -195         -889       -1092   -16870  \n",
       "4             -41270           -616        -1473       -2024   -17270  \n",
       "...              ...            ...          ...         ...      ...  \n",
       "16217         -84410          -3845          619         390 -1264050  \n",
       "16218         -53586          -3915          596        -760 -1290220  \n",
       "16219         -58780          -5940        -1054         612 -1720260  \n",
       "16220         -75320          -4204        -1470        1026 -1546640  \n",
       "16221         -34857          -5161         -950       -1006 -1377110  \n",
       "\n",
       "[15883 rows x 26 columns]"
      ]
     },
     "execution_count": 5,
     "metadata": {},
     "output_type": "execute_result"
    }
   ],
   "source": [
    "features = ['IMAGEUID_bl', 'Ventricles_bl', 'Hippocampus_bl', 'WholeBrain_bl',\n",
    "            'Entorhinal_bl', 'Fusiform_bl',\n",
    "            'MidTemp_bl', 'ICV_bl',\n",
    "            'CDRSB_bl', 'ADAS11_bl', 'ADAS13_bl', 'ADASQ4_bl', 'MMSE_bl', 'RAVLT_immediate_bl',\n",
    "            'RAVLT_learning_bl', 'RAVLT_forgetting_bl', 'RAVLT_perc_forgetting_bl',\n",
    "            'DX_bl', 'IMAGEUID', 'Ventricles', 'Hippocampus', 'WholeBrain', 'Entorhinal',\n",
    "       'Fusiform', 'MidTemp', 'ICV']\n",
    "\n",
    "fea = [col for col in data_whole.columns if col in features]\n",
    "whole = data_whole[fea]\n",
    "whole"
   ]
  },
  {
   "cell_type": "code",
   "execution_count": 6,
   "metadata": {
    "pycharm": {
     "name": "#%%\n"
    }
   },
   "outputs": [
    {
     "data": {
      "text/html": [
       "<div>\n",
       "<style scoped>\n",
       "    .dataframe tbody tr th:only-of-type {\n",
       "        vertical-align: middle;\n",
       "    }\n",
       "\n",
       "    .dataframe tbody tr th {\n",
       "        vertical-align: top;\n",
       "    }\n",
       "\n",
       "    .dataframe thead th {\n",
       "        text-align: right;\n",
       "    }\n",
       "</style>\n",
       "<table border=\"1\" class=\"dataframe\">\n",
       "  <thead>\n",
       "    <tr style=\"text-align: right;\">\n",
       "      <th></th>\n",
       "      <th>iv</th>\n",
       "      <th>gini</th>\n",
       "      <th>entropy</th>\n",
       "      <th>unique</th>\n",
       "    </tr>\n",
       "  </thead>\n",
       "  <tbody>\n",
       "    <tr>\n",
       "      <th>CDRSB_bl</th>\n",
       "      <td>1.848396</td>\n",
       "      <td>0.502094</td>\n",
       "      <td>0.906425</td>\n",
       "      <td>54.0</td>\n",
       "    </tr>\n",
       "    <tr>\n",
       "      <th>RAVLT_forgetting_bl</th>\n",
       "      <td>0.968492</td>\n",
       "      <td>0.506292</td>\n",
       "      <td>0.898983</td>\n",
       "      <td>117.0</td>\n",
       "    </tr>\n",
       "    <tr>\n",
       "      <th>ADAS11_bl</th>\n",
       "      <td>0.342844</td>\n",
       "      <td>0.531415</td>\n",
       "      <td>0.906539</td>\n",
       "      <td>406.0</td>\n",
       "    </tr>\n",
       "    <tr>\n",
       "      <th>MMSE_bl</th>\n",
       "      <td>0.328439</td>\n",
       "      <td>0.530682</td>\n",
       "      <td>0.906436</td>\n",
       "      <td>39.0</td>\n",
       "    </tr>\n",
       "    <tr>\n",
       "      <th>Hippocampus</th>\n",
       "      <td>0.286343</td>\n",
       "      <td>0.525299</td>\n",
       "      <td>0.906551</td>\n",
       "      <td>5082.0</td>\n",
       "    </tr>\n",
       "    <tr>\n",
       "      <th>ADASQ4_bl</th>\n",
       "      <td>0.282850</td>\n",
       "      <td>0.534182</td>\n",
       "      <td>0.906318</td>\n",
       "      <td>20.0</td>\n",
       "    </tr>\n",
       "    <tr>\n",
       "      <th>RAVLT_immediate_bl</th>\n",
       "      <td>0.274947</td>\n",
       "      <td>0.529636</td>\n",
       "      <td>0.906558</td>\n",
       "      <td>104.0</td>\n",
       "    </tr>\n",
       "    <tr>\n",
       "      <th>RAVLT_perc_forgetting_bl</th>\n",
       "      <td>0.236489</td>\n",
       "      <td>0.537041</td>\n",
       "      <td>0.906494</td>\n",
       "      <td>1509.0</td>\n",
       "    </tr>\n",
       "    <tr>\n",
       "      <th>Entorhinal_bl</th>\n",
       "      <td>0.204350</td>\n",
       "      <td>0.539261</td>\n",
       "      <td>0.906579</td>\n",
       "      <td>3284.0</td>\n",
       "    </tr>\n",
       "    <tr>\n",
       "      <th>ICV_bl</th>\n",
       "      <td>0.138414</td>\n",
       "      <td>0.542323</td>\n",
       "      <td>0.906558</td>\n",
       "      <td>6351.0</td>\n",
       "    </tr>\n",
       "    <tr>\n",
       "      <th>RAVLT_learning_bl</th>\n",
       "      <td>0.135223</td>\n",
       "      <td>0.534597</td>\n",
       "      <td>0.906510</td>\n",
       "      <td>27.0</td>\n",
       "    </tr>\n",
       "    <tr>\n",
       "      <th>ADAS13_bl</th>\n",
       "      <td>0.134490</td>\n",
       "      <td>0.539774</td>\n",
       "      <td>0.906561</td>\n",
       "      <td>421.0</td>\n",
       "    </tr>\n",
       "    <tr>\n",
       "      <th>IMAGEUID</th>\n",
       "      <td>0.132957</td>\n",
       "      <td>0.538522</td>\n",
       "      <td>0.906519</td>\n",
       "      <td>9718.0</td>\n",
       "    </tr>\n",
       "    <tr>\n",
       "      <th>MidTemp</th>\n",
       "      <td>0.129383</td>\n",
       "      <td>0.533868</td>\n",
       "      <td>0.906579</td>\n",
       "      <td>5750.0</td>\n",
       "    </tr>\n",
       "    <tr>\n",
       "      <th>Fusiform_bl</th>\n",
       "      <td>0.118470</td>\n",
       "      <td>0.542278</td>\n",
       "      <td>0.906576</td>\n",
       "      <td>3708.0</td>\n",
       "    </tr>\n",
       "    <tr>\n",
       "      <th>Ventricles</th>\n",
       "      <td>0.109697</td>\n",
       "      <td>0.539520</td>\n",
       "      <td>0.906558</td>\n",
       "      <td>8731.0</td>\n",
       "    </tr>\n",
       "    <tr>\n",
       "      <th>Entorhinal</th>\n",
       "      <td>0.104788</td>\n",
       "      <td>0.536236</td>\n",
       "      <td>0.906403</td>\n",
       "      <td>3118.0</td>\n",
       "    </tr>\n",
       "    <tr>\n",
       "      <th>MidTemp_bl</th>\n",
       "      <td>0.101095</td>\n",
       "      <td>0.542698</td>\n",
       "      <td>0.906569</td>\n",
       "      <td>3831.0</td>\n",
       "    </tr>\n",
       "    <tr>\n",
       "      <th>IMAGEUID_bl</th>\n",
       "      <td>0.079170</td>\n",
       "      <td>0.539349</td>\n",
       "      <td>0.906532</td>\n",
       "      <td>12010.0</td>\n",
       "    </tr>\n",
       "    <tr>\n",
       "      <th>WholeBrain</th>\n",
       "      <td>0.076332</td>\n",
       "      <td>0.541631</td>\n",
       "      <td>0.906481</td>\n",
       "      <td>8778.0</td>\n",
       "    </tr>\n",
       "    <tr>\n",
       "      <th>Fusiform</th>\n",
       "      <td>0.070522</td>\n",
       "      <td>0.538284</td>\n",
       "      <td>0.906289</td>\n",
       "      <td>5524.0</td>\n",
       "    </tr>\n",
       "    <tr>\n",
       "      <th>Ventricles_bl</th>\n",
       "      <td>0.067501</td>\n",
       "      <td>0.544242</td>\n",
       "      <td>0.906576</td>\n",
       "      <td>8157.0</td>\n",
       "    </tr>\n",
       "    <tr>\n",
       "      <th>ICV</th>\n",
       "      <td>0.066404</td>\n",
       "      <td>0.543471</td>\n",
       "      <td>0.906579</td>\n",
       "      <td>8959.0</td>\n",
       "    </tr>\n",
       "    <tr>\n",
       "      <th>Hippocampus_bl</th>\n",
       "      <td>0.065823</td>\n",
       "      <td>0.543360</td>\n",
       "      <td>0.906578</td>\n",
       "      <td>3851.0</td>\n",
       "    </tr>\n",
       "    <tr>\n",
       "      <th>WholeBrain_bl</th>\n",
       "      <td>0.049220</td>\n",
       "      <td>0.544261</td>\n",
       "      <td>0.906579</td>\n",
       "      <td>8340.0</td>\n",
       "    </tr>\n",
       "  </tbody>\n",
       "</table>\n",
       "</div>"
      ],
      "text/plain": [
       "                                iv      gini   entropy   unique\n",
       "CDRSB_bl                  1.848396  0.502094  0.906425     54.0\n",
       "RAVLT_forgetting_bl       0.968492  0.506292  0.898983    117.0\n",
       "ADAS11_bl                 0.342844  0.531415  0.906539    406.0\n",
       "MMSE_bl                   0.328439  0.530682  0.906436     39.0\n",
       "Hippocampus               0.286343  0.525299  0.906551   5082.0\n",
       "ADASQ4_bl                 0.282850  0.534182  0.906318     20.0\n",
       "RAVLT_immediate_bl        0.274947  0.529636  0.906558    104.0\n",
       "RAVLT_perc_forgetting_bl  0.236489  0.537041  0.906494   1509.0\n",
       "Entorhinal_bl             0.204350  0.539261  0.906579   3284.0\n",
       "ICV_bl                    0.138414  0.542323  0.906558   6351.0\n",
       "RAVLT_learning_bl         0.135223  0.534597  0.906510     27.0\n",
       "ADAS13_bl                 0.134490  0.539774  0.906561    421.0\n",
       "IMAGEUID                  0.132957  0.538522  0.906519   9718.0\n",
       "MidTemp                   0.129383  0.533868  0.906579   5750.0\n",
       "Fusiform_bl               0.118470  0.542278  0.906576   3708.0\n",
       "Ventricles                0.109697  0.539520  0.906558   8731.0\n",
       "Entorhinal                0.104788  0.536236  0.906403   3118.0\n",
       "MidTemp_bl                0.101095  0.542698  0.906569   3831.0\n",
       "IMAGEUID_bl               0.079170  0.539349  0.906532  12010.0\n",
       "WholeBrain                0.076332  0.541631  0.906481   8778.0\n",
       "Fusiform                  0.070522  0.538284  0.906289   5524.0\n",
       "Ventricles_bl             0.067501  0.544242  0.906576   8157.0\n",
       "ICV                       0.066404  0.543471  0.906579   8959.0\n",
       "Hippocampus_bl            0.065823  0.543360  0.906578   3851.0\n",
       "WholeBrain_bl             0.049220  0.544261  0.906579   8340.0"
      ]
     },
     "execution_count": 6,
     "metadata": {},
     "output_type": "execute_result"
    }
   ],
   "source": [
    "import toad\n",
    "\n",
    "target = whole['DX_bl']\n",
    "department = whole.copy()\n",
    "\n",
    "department['DX_bl'] = department['DX_bl'].str.replace('EMCI', 'MCI')\n",
    "department['DX_bl'] = department['DX_bl'].str.replace('LMCI', 'MCI')\n",
    "department['DX_bl'] = department['DX_bl'].str.replace('SMC', 'MCI')\n",
    "\n",
    "department['DX_bl'] = department['DX_bl'].map(\n",
    "    {\n",
    "        'CN': 0, 'MCI': 1, 'AD': 2\n",
    "    }\n",
    ")\n",
    "\n",
    "toad.quality(department, 'DX_bl')"
   ]
  },
  {
   "cell_type": "code",
   "execution_count": 7,
   "metadata": {
    "pycharm": {
     "name": "#%%\n"
    }
   },
   "outputs": [
    {
     "data": {
      "text/html": [
       "<div>\n",
       "<style scoped>\n",
       "    .dataframe tbody tr th:only-of-type {\n",
       "        vertical-align: middle;\n",
       "    }\n",
       "\n",
       "    .dataframe tbody tr th {\n",
       "        vertical-align: top;\n",
       "    }\n",
       "\n",
       "    .dataframe thead th {\n",
       "        text-align: right;\n",
       "    }\n",
       "</style>\n",
       "<table border=\"1\" class=\"dataframe\">\n",
       "  <thead>\n",
       "    <tr style=\"text-align: right;\">\n",
       "      <th></th>\n",
       "      <th>DX_bl</th>\n",
       "      <th>IMAGEUID</th>\n",
       "      <th>Ventricles</th>\n",
       "      <th>Hippocampus</th>\n",
       "      <th>Fusiform</th>\n",
       "      <th>MidTemp</th>\n",
       "    </tr>\n",
       "  </thead>\n",
       "  <tbody>\n",
       "    <tr>\n",
       "      <th>0</th>\n",
       "      <td>0</td>\n",
       "      <td>35475</td>\n",
       "      <td>118233.0</td>\n",
       "      <td>8336.0</td>\n",
       "      <td>16559</td>\n",
       "      <td>27936</td>\n",
       "    </tr>\n",
       "    <tr>\n",
       "      <th>1</th>\n",
       "      <td>2</td>\n",
       "      <td>32237</td>\n",
       "      <td>84599.0</td>\n",
       "      <td>5319.0</td>\n",
       "      <td>15506</td>\n",
       "      <td>18422</td>\n",
       "    </tr>\n",
       "    <tr>\n",
       "      <th>2</th>\n",
       "      <td>2</td>\n",
       "      <td>31863</td>\n",
       "      <td>88580.0</td>\n",
       "      <td>5446.0</td>\n",
       "      <td>14400</td>\n",
       "      <td>16972</td>\n",
       "    </tr>\n",
       "    <tr>\n",
       "      <th>3</th>\n",
       "      <td>2</td>\n",
       "      <td>35576</td>\n",
       "      <td>90099.0</td>\n",
       "      <td>5157.0</td>\n",
       "      <td>14617</td>\n",
       "      <td>17330</td>\n",
       "    </tr>\n",
       "    <tr>\n",
       "      <th>4</th>\n",
       "      <td>2</td>\n",
       "      <td>88252</td>\n",
       "      <td>97420.0</td>\n",
       "      <td>5139.0</td>\n",
       "      <td>14033</td>\n",
       "      <td>16398</td>\n",
       "    </tr>\n",
       "    <tr>\n",
       "      <th>...</th>\n",
       "      <td>...</td>\n",
       "      <td>...</td>\n",
       "      <td>...</td>\n",
       "      <td>...</td>\n",
       "      <td>...</td>\n",
       "      <td>...</td>\n",
       "    </tr>\n",
       "    <tr>\n",
       "      <th>16217</th>\n",
       "      <td>1</td>\n",
       "      <td>1561905</td>\n",
       "      <td>47744.0</td>\n",
       "      <td>5844.5</td>\n",
       "      <td>17497</td>\n",
       "      <td>16258</td>\n",
       "    </tr>\n",
       "    <tr>\n",
       "      <th>16218</th>\n",
       "      <td>0</td>\n",
       "      <td>1480313</td>\n",
       "      <td>34835.0</td>\n",
       "      <td>7407.3</td>\n",
       "      <td>18561</td>\n",
       "      <td>23943</td>\n",
       "    </tr>\n",
       "    <tr>\n",
       "      <th>16219</th>\n",
       "      <td>1</td>\n",
       "      <td>1534037</td>\n",
       "      <td>24465.0</td>\n",
       "      <td>8723.0</td>\n",
       "      <td>20364</td>\n",
       "      <td>24571</td>\n",
       "    </tr>\n",
       "    <tr>\n",
       "      <th>16220</th>\n",
       "      <td>0</td>\n",
       "      <td>1514449</td>\n",
       "      <td>58165.4</td>\n",
       "      <td>6633.6</td>\n",
       "      <td>20658</td>\n",
       "      <td>22523</td>\n",
       "    </tr>\n",
       "    <tr>\n",
       "      <th>16221</th>\n",
       "      <td>0</td>\n",
       "      <td>1558652</td>\n",
       "      <td>25383.1</td>\n",
       "      <td>7594.9</td>\n",
       "      <td>16343</td>\n",
       "      <td>19325</td>\n",
       "    </tr>\n",
       "  </tbody>\n",
       "</table>\n",
       "<p>15883 rows × 6 columns</p>\n",
       "</div>"
      ],
      "text/plain": [
       "       DX_bl  IMAGEUID  Ventricles  Hippocampus  Fusiform  MidTemp\n",
       "0          0     35475    118233.0       8336.0     16559    27936\n",
       "1          2     32237     84599.0       5319.0     15506    18422\n",
       "2          2     31863     88580.0       5446.0     14400    16972\n",
       "3          2     35576     90099.0       5157.0     14617    17330\n",
       "4          2     88252     97420.0       5139.0     14033    16398\n",
       "...      ...       ...         ...          ...       ...      ...\n",
       "16217      1   1561905     47744.0       5844.5     17497    16258\n",
       "16218      0   1480313     34835.0       7407.3     18561    23943\n",
       "16219      1   1534037     24465.0       8723.0     20364    24571\n",
       "16220      0   1514449     58165.4       6633.6     20658    22523\n",
       "16221      0   1558652     25383.1       7594.9     16343    19325\n",
       "\n",
       "[15883 rows x 6 columns]"
      ]
     },
     "execution_count": 7,
     "metadata": {},
     "output_type": "execute_result"
    }
   ],
   "source": [
    "select, drop = toad.select(department, target='DX_bl', return_drop=True)\n",
    "select = select[select.columns[:8]]\n",
    "select.dropna(axis=1, inplace=True)\n",
    "select"
   ]
  },
  {
   "cell_type": "code",
   "execution_count": 8,
   "metadata": {
    "pycharm": {
     "name": "#%%\n"
    }
   },
   "outputs": [
    {
     "data": {
      "image/png": "[encoded data removed]",
      "text/plain": [
       "<Figure size 864x720 with 2 Axes>"
      ]
     },
     "metadata": {},
     "output_type": "display_data"
    }
   ],
   "source": [
    "kl.corr_plot(select, annot=False, method='spearman')\n",
    "plt.savefig(create_figure('select-corr'), dpi=800)"
   ]
  },
  {
   "cell_type": "code",
   "execution_count": 9,
   "metadata": {
    "pycharm": {
     "name": "#%%\n"
    }
   },
   "outputs": [],
   "source": [
    "from sklearn.preprocessing import StandardScaler\n",
    "\n",
    "\n",
    "x = StandardScaler().fit_transform(select)\n"
   ]
  },
  {
   "cell_type": "code",
   "execution_count": 10,
   "metadata": {
    "pycharm": {
     "name": "#%%\n"
    }
   },
   "outputs": [
    {
     "data": {
      "text/plain": [
       "1    9427\n",
       "0    4806\n",
       "2    1650\n",
       "Name: DX_bl, dtype: int64"
      ]
     },
     "execution_count": 10,
     "metadata": {},
     "output_type": "execute_result"
    }
   ],
   "source": [
    "department['DX_bl'].value_counts()"
   ]
  },
  {
   "cell_type": "code",
   "execution_count": 11,
   "metadata": {
    "pycharm": {
     "name": "#%%\n"
    }
   },
   "outputs": [
    {
     "name": "stdout",
     "output_type": "stream",
     "text": [
      "              precision    recall  f1-score   support\n",
      "\n",
      "           0       0.45      0.67      0.54      4806\n",
      "           1       0.64      0.36      0.46      9427\n",
      "           2       0.03      0.05      0.03      1650\n",
      "\n",
      "    accuracy                           0.42     15883\n",
      "   macro avg       0.37      0.36      0.35     15883\n",
      "weighted avg       0.52      0.42      0.44     15883\n",
      "\n"
     ]
    }
   ],
   "source": [
    "from sklearn.metrics import accuracy_score\n",
    "from sklearn.cluster import MiniBatchKMeans, KMeans\n",
    "from kmodes.kmodes import KModes\n",
    "from sklearn.metrics import classification_report\n",
    "\n",
    "true = department['DX_bl']\n",
    "\n",
    "model = KMeans(n_clusters=3)\n",
    "pred = model.fit_predict(x, true)\n",
    "print(classification_report(true, pred))"
   ]
  },
  {
   "cell_type": "code",
   "execution_count": 12,
   "metadata": {
    "pycharm": {
     "name": "#%%\n"
    }
   },
   "outputs": [],
   "source": [
    "from sklearn.metrics import silhouette_score, davies_bouldin_score"
   ]
  },
  {
   "cell_type": "code",
   "execution_count": 13,
   "metadata": {
    "pycharm": {
     "name": "#%%\n"
    }
   },
   "outputs": [
    {
     "data": {
      "text/plain": [
       "0.22557583929981156"
      ]
     },
     "metadata": {},
     "output_type": "display_data"
    },
    {
     "data": {
      "text/plain": [
       "1.5688036371748468"
      ]
     },
     "metadata": {},
     "output_type": "display_data"
    }
   ],
   "source": [
    "display(\n",
    "    silhouette_score(x, pred),\n",
    "    davies_bouldin_score(x, pred)\n",
    ")"
   ]
  },
  {
   "cell_type": "code",
   "execution_count": 14,
   "metadata": {
    "pycharm": {
     "name": "#%%\n"
    }
   },
   "outputs": [
    {
     "name": "stdout",
     "output_type": "stream",
     "text": [
      "              precision    recall  f1-score   support\n",
      "\n",
      "           0       0.31      1.00      0.47      4806\n",
      "           1       0.84      0.01      0.02      9427\n",
      "           2       0.01      0.00      0.00      1650\n",
      "\n",
      "    accuracy                           0.31     15883\n",
      "   macro avg       0.39      0.34      0.16     15883\n",
      "weighted avg       0.59      0.31      0.15     15883\n",
      "\n"
     ]
    }
   ],
   "source": [
    "model = KModes(n_clusters=3)\n",
    "pred = model.fit_predict(x, true)\n",
    "print(classification_report(true, pred))"
   ]
  },
  {
   "cell_type": "code",
   "execution_count": 15,
   "metadata": {
    "pycharm": {
     "name": "#%%\n"
    }
   },
   "outputs": [
    {
     "data": {
      "text/plain": [
       "0    15675\n",
       "1      109\n",
       "2       99\n",
       "dtype: int64"
      ]
     },
     "execution_count": 15,
     "metadata": {},
     "output_type": "execute_result"
    }
   ],
   "source": [
    "pd.Series(pred).value_counts()"
   ]
  },
  {
   "cell_type": "code",
   "execution_count": 16,
   "metadata": {
    "pycharm": {
     "name": "#%%\n"
    }
   },
   "outputs": [
    {
     "data": {
      "text/plain": [
       "-0.0799473335070132"
      ]
     },
     "metadata": {},
     "output_type": "display_data"
    },
    {
     "data": {
      "text/plain": [
       "4.62762835121269"
      ]
     },
     "metadata": {},
     "output_type": "display_data"
    }
   ],
   "source": [
    "from sklearn.metrics import silhouette_score, davies_bouldin_score\n",
    "\n",
    "display(\n",
    "    silhouette_score(x, pred),\n",
    "    davies_bouldin_score(x, pred)\n",
    ")"
   ]
  },
  {
   "cell_type": "code",
   "execution_count": 17,
   "metadata": {
    "pycharm": {
     "name": "#%%\n"
    }
   },
   "outputs": [],
   "source": [
    "import math\n",
    "from minisom import MiniSom\n",
    "\n",
    "N = x.shape[0]\n",
    "M = x.shape[1]\n",
    "\n",
    "size = math.ceil(np.sqrt(5 * np.sqrt(N)))\n",
    "\n",
    "max_iter = 300\n",
    "\n",
    "som = MiniSom(size, size, M, sigma=10, learning_rate=0.1,\n",
    "              neighborhood_function='gaussian')"
   ]
  },
  {
   "cell_type": "code",
   "execution_count": 18,
   "metadata": {
    "pycharm": {
     "name": "#%%\n"
    }
   },
   "outputs": [],
   "source": [
    "som.pca_weights_init(x)\n",
    "som.train_batch(x, max_iter, verbose=False)\n",
    "winmap = som.labels_map(x, true)"
   ]
  },
  {
   "cell_type": "code",
   "execution_count": 19,
   "metadata": {
    "pycharm": {
     "name": "#%%\n"
    }
   },
   "outputs": [],
   "source": [
    "def classify(som,data,winmap):\n",
    "    from numpy import sum as npsum\n",
    "    default_class = npsum(list(winmap.values())).most_common()[0][0]\n",
    "    result = []\n",
    "    for d in data:\n",
    "        win_position = som.winner(d)\n",
    "        if win_position in winmap:\n",
    "            result.append(winmap[win_position].most_common()[0][0])\n",
    "        else:\n",
    "            result.append(default_class)\n",
    "    return result"
   ]
  },
  {
   "cell_type": "code",
   "execution_count": 20,
   "metadata": {
    "pycharm": {
     "name": "#%%\n"
    }
   },
   "outputs": [
    {
     "name": "stdout",
     "output_type": "stream",
     "text": [
      "              precision    recall  f1-score   support\n",
      "\n",
      "           0       0.98      0.84      0.90      4806\n",
      "           1       0.91      0.99      0.95      9427\n",
      "           2       1.00      0.88      0.93      1650\n",
      "\n",
      "    accuracy                           0.93     15883\n",
      "   macro avg       0.96      0.90      0.93     15883\n",
      "weighted avg       0.94      0.93      0.93     15883\n",
      "\n"
     ]
    }
   ],
   "source": [
    "y_pred = classify(som, x, winmap)\n",
    "print(classification_report(true, np.array(y_pred)))"
   ]
  },
  {
   "cell_type": "code",
   "execution_count": 21,
   "metadata": {
    "pycharm": {
     "name": "#%%\n"
    }
   },
   "outputs": [
    {
     "data": {
      "text/plain": [
       "0.10317101441606608"
      ]
     },
     "metadata": {},
     "output_type": "display_data"
    },
    {
     "data": {
      "text/plain": [
       "2.0941765802800436"
      ]
     },
     "metadata": {},
     "output_type": "display_data"
    }
   ],
   "source": [
    "display(\n",
    "    silhouette_score(x, y_pred),\n",
    "    davies_bouldin_score(x, y_pred)\n",
    ")"
   ]
  },
  {
   "cell_type": "code",
   "execution_count": 22,
   "metadata": {
    "pycharm": {
     "name": "#%%\n"
    }
   },
   "outputs": [
    {
     "data": {
      "image/png": "[encoded data removed]",
      "text/plain": [
       "<Figure size 648x648 with 2 Axes>"
      ]
     },
     "metadata": {},
     "output_type": "display_data"
    }
   ],
   "source": [
    "heatmap = som.distance_map()\n",
    "plt.figure(figsize=(9, 9))\n",
    "plt.imshow(heatmap)\n",
    "plt.colorbar()\n",
    "plt.savefig(create_figure('U-matrix'), dpi=800)"
   ]
  },
  {
   "cell_type": "code",
   "execution_count": 23,
   "metadata": {
    "pycharm": {
     "name": "#%%\n"
    }
   },
   "outputs": [
    {
     "data": {
      "image/png": "[encoded data removed]",
      "text/plain": [
       "<Figure size 864x648 with 2 Axes>"
      ]
     },
     "metadata": {},
     "output_type": "display_data"
    }
   ],
   "source": [
    "from sklearn.metrics import confusion_matrix\n",
    "\n",
    "plt.figure(figsize=(12, 9))\n",
    "matrix = confusion_matrix(true, y_pred)\n",
    "sns.heatmap(matrix, annot=False)\n",
    "plt.savefig(create_figure('confusion-matrix'), dpi=800)"
   ]
  },
  {
   "cell_type": "code",
   "execution_count": 24,
   "metadata": {
    "pycharm": {
     "name": "#%%\n"
    }
   },
   "outputs": [],
   "source": [
    "from skfuzzy.cluster import cmeans\n",
    "\n",
    "center, u, u0, d, jm, p, fpc = cmeans(x.T, m=2, c=3, error=5e-3, maxiter=1000)\n",
    "label = u.T.argmax(1)"
   ]
  },
  {
   "cell_type": "code",
   "execution_count": 25,
   "metadata": {
    "pycharm": {
     "name": "#%%\n"
    }
   },
   "outputs": [
    {
     "data": {
      "text/plain": [
       "0.13795794986951457"
      ]
     },
     "metadata": {},
     "output_type": "display_data"
    },
    {
     "data": {
      "text/plain": [
       "2.01651009625486"
      ]
     },
     "metadata": {},
     "output_type": "display_data"
    }
   ],
   "source": [
    "display(\n",
    "    silhouette_score(x, label),\n",
    "    davies_bouldin_score(x, label)\n",
    ")"
   ]
  },
  {
   "cell_type": "code",
   "execution_count": 26,
   "metadata": {
    "pycharm": {
     "name": "#%%\n"
    }
   },
   "outputs": [
    {
     "data": {
      "text/plain": [
       "0    5660\n",
       "2    5589\n",
       "1    4634\n",
       "dtype: int64"
      ]
     },
     "execution_count": 26,
     "metadata": {},
     "output_type": "execute_result"
    }
   ],
   "source": [
    "pd.Series(label).value_counts()"
   ]
  },
  {
   "cell_type": "code",
   "execution_count": 27,
   "metadata": {
    "pycharm": {
     "name": "#%%\n"
    }
   },
   "outputs": [
    {
     "name": "stdout",
     "output_type": "stream",
     "text": [
      "              precision    recall  f1-score   support\n",
      "\n",
      "           0       0.31      0.36      0.33      4806\n",
      "           1       0.63      0.38      0.47      9427\n",
      "           2       0.01      0.02      0.01      1650\n",
      "\n",
      "    accuracy                           0.33     15883\n",
      "   macro avg       0.32      0.25      0.27     15883\n",
      "weighted avg       0.47      0.33      0.38     15883\n",
      "\n"
     ]
    }
   ],
   "source": [
    "label = pd.Series(label).map(\n",
    "    {1: 2, 0: 0, 2: 1}\n",
    ")\n",
    "\n",
    "print(classification_report(true, label))"
   ]
  },
  {
   "cell_type": "code",
   "execution_count": 28,
   "metadata": {
    "pycharm": {
     "name": "#%%\n"
    }
   },
   "outputs": [
    {
     "data": {
      "text/html": [
       "<div>\n",
       "<style scoped>\n",
       "    .dataframe tbody tr th:only-of-type {\n",
       "        vertical-align: middle;\n",
       "    }\n",
       "\n",
       "    .dataframe tbody tr th {\n",
       "        vertical-align: top;\n",
       "    }\n",
       "\n",
       "    .dataframe thead th {\n",
       "        text-align: right;\n",
       "    }\n",
       "</style>\n",
       "<table border=\"1\" class=\"dataframe\">\n",
       "  <thead>\n",
       "    <tr style=\"text-align: right;\">\n",
       "      <th></th>\n",
       "      <th>DX_bl</th>\n",
       "      <th>IMAGEUID</th>\n",
       "      <th>Ventricles</th>\n",
       "      <th>Hippocampus</th>\n",
       "      <th>Fusiform</th>\n",
       "      <th>MidTemp</th>\n",
       "    </tr>\n",
       "  </thead>\n",
       "  <tbody>\n",
       "    <tr>\n",
       "      <th>48</th>\n",
       "      <td>SMC</td>\n",
       "      <td>391070</td>\n",
       "      <td>34372.0</td>\n",
       "      <td>7851.0</td>\n",
       "      <td>19522</td>\n",
       "      <td>23882</td>\n",
       "    </tr>\n",
       "    <tr>\n",
       "      <th>49</th>\n",
       "      <td>SMC</td>\n",
       "      <td>788060</td>\n",
       "      <td>36983.0</td>\n",
       "      <td>8084.0</td>\n",
       "      <td>19974</td>\n",
       "      <td>20984</td>\n",
       "    </tr>\n",
       "    <tr>\n",
       "      <th>54</th>\n",
       "      <td>SMC</td>\n",
       "      <td>394760</td>\n",
       "      <td>32264.0</td>\n",
       "      <td>8655.0</td>\n",
       "      <td>20580</td>\n",
       "      <td>21272</td>\n",
       "    </tr>\n",
       "    <tr>\n",
       "      <th>76</th>\n",
       "      <td>SMC</td>\n",
       "      <td>389161</td>\n",
       "      <td>33185.0</td>\n",
       "      <td>8297.0</td>\n",
       "      <td>20147</td>\n",
       "      <td>21194</td>\n",
       "    </tr>\n",
       "    <tr>\n",
       "      <th>77</th>\n",
       "      <td>SMC</td>\n",
       "      <td>387866</td>\n",
       "      <td>21327.0</td>\n",
       "      <td>7654.0</td>\n",
       "      <td>17964</td>\n",
       "      <td>18611</td>\n",
       "    </tr>\n",
       "    <tr>\n",
       "      <th>...</th>\n",
       "      <td>...</td>\n",
       "      <td>...</td>\n",
       "      <td>...</td>\n",
       "      <td>...</td>\n",
       "      <td>...</td>\n",
       "      <td>...</td>\n",
       "    </tr>\n",
       "    <tr>\n",
       "      <th>16194</th>\n",
       "      <td>LMCI</td>\n",
       "      <td>1492716</td>\n",
       "      <td>79881.1</td>\n",
       "      <td>7345.6</td>\n",
       "      <td>16587</td>\n",
       "      <td>21260</td>\n",
       "    </tr>\n",
       "    <tr>\n",
       "      <th>16199</th>\n",
       "      <td>LMCI</td>\n",
       "      <td>1331108</td>\n",
       "      <td>26394.0</td>\n",
       "      <td>8693.0</td>\n",
       "      <td>19544</td>\n",
       "      <td>20064</td>\n",
       "    </tr>\n",
       "    <tr>\n",
       "      <th>16203</th>\n",
       "      <td>LMCI</td>\n",
       "      <td>1532649</td>\n",
       "      <td>55208.7</td>\n",
       "      <td>7107.0</td>\n",
       "      <td>14842</td>\n",
       "      <td>17599</td>\n",
       "    </tr>\n",
       "    <tr>\n",
       "      <th>16206</th>\n",
       "      <td>LMCI</td>\n",
       "      <td>1455596</td>\n",
       "      <td>64867.2</td>\n",
       "      <td>7158.0</td>\n",
       "      <td>18338</td>\n",
       "      <td>21438</td>\n",
       "    </tr>\n",
       "    <tr>\n",
       "      <th>16209</th>\n",
       "      <td>LMCI</td>\n",
       "      <td>1561905</td>\n",
       "      <td>30493.2</td>\n",
       "      <td>8621.6</td>\n",
       "      <td>17823</td>\n",
       "      <td>20064</td>\n",
       "    </tr>\n",
       "  </tbody>\n",
       "</table>\n",
       "<p>9427 rows × 6 columns</p>\n",
       "</div>"
      ],
      "text/plain": [
       "      DX_bl  IMAGEUID  Ventricles  Hippocampus  Fusiform  MidTemp\n",
       "48      SMC    391070     34372.0       7851.0     19522    23882\n",
       "49      SMC    788060     36983.0       8084.0     19974    20984\n",
       "54      SMC    394760     32264.0       8655.0     20580    21272\n",
       "76      SMC    389161     33185.0       8297.0     20147    21194\n",
       "77      SMC    387866     21327.0       7654.0     17964    18611\n",
       "...     ...       ...         ...          ...       ...      ...\n",
       "16194  LMCI   1492716     79881.1       7345.6     16587    21260\n",
       "16199  LMCI   1331108     26394.0       8693.0     19544    20064\n",
       "16203  LMCI   1532649     55208.7       7107.0     14842    17599\n",
       "16206  LMCI   1455596     64867.2       7158.0     18338    21438\n",
       "16209  LMCI   1561905     30493.2       8621.6     17823    20064\n",
       "\n",
       "[9427 rows x 6 columns]"
      ]
     },
     "execution_count": 28,
     "metadata": {},
     "output_type": "execute_result"
    }
   ],
   "source": [
    "department = data_whole[select.columns]\n",
    "smc = department[department['DX_bl'] == 'SMC']\n",
    "emci = department[department['DX_bl'] == 'EMCI']\n",
    "lmci = department[department['DX_bl'] == 'LMCI']\n",
    "\n",
    "department = pd.concat([smc, emci, lmci], axis=0)\n",
    "department"
   ]
  },
  {
   "cell_type": "code",
   "execution_count": 29,
   "metadata": {
    "pycharm": {
     "name": "#%%\n"
    }
   },
   "outputs": [
    {
     "data": {
      "image/png": "[encoded data removed]",
      "text/plain": [
       "<Figure size 432x288 with 1 Axes>"
      ]
     },
     "metadata": {},
     "output_type": "display_data"
    }
   ],
   "source": [
    "sns.countplot(department['DX_bl'])\n",
    "plt.xlabel('MCI')\n",
    "plt.savefig(create_figure('mci_count'), dpi=800)"
   ]
  },
  {
   "cell_type": "code",
   "execution_count": 30,
   "metadata": {
    "pycharm": {
     "name": "#%%\n"
    }
   },
   "outputs": [
    {
     "data": {
      "text/html": [
       "<div>\n",
       "<style scoped>\n",
       "    .dataframe tbody tr th:only-of-type {\n",
       "        vertical-align: middle;\n",
       "    }\n",
       "\n",
       "    .dataframe tbody tr th {\n",
       "        vertical-align: top;\n",
       "    }\n",
       "\n",
       "    .dataframe thead th {\n",
       "        text-align: right;\n",
       "    }\n",
       "</style>\n",
       "<table border=\"1\" class=\"dataframe\">\n",
       "  <thead>\n",
       "    <tr style=\"text-align: right;\">\n",
       "      <th></th>\n",
       "      <th>IMAGEUID</th>\n",
       "      <th>Ventricles</th>\n",
       "      <th>Hippocampus</th>\n",
       "      <th>Fusiform</th>\n",
       "      <th>MidTemp</th>\n",
       "    </tr>\n",
       "  </thead>\n",
       "  <tbody>\n",
       "    <tr>\n",
       "      <th>48</th>\n",
       "      <td>391070</td>\n",
       "      <td>34372.0</td>\n",
       "      <td>7851.0</td>\n",
       "      <td>19522</td>\n",
       "      <td>23882</td>\n",
       "    </tr>\n",
       "    <tr>\n",
       "      <th>49</th>\n",
       "      <td>788060</td>\n",
       "      <td>36983.0</td>\n",
       "      <td>8084.0</td>\n",
       "      <td>19974</td>\n",
       "      <td>20984</td>\n",
       "    </tr>\n",
       "    <tr>\n",
       "      <th>54</th>\n",
       "      <td>394760</td>\n",
       "      <td>32264.0</td>\n",
       "      <td>8655.0</td>\n",
       "      <td>20580</td>\n",
       "      <td>21272</td>\n",
       "    </tr>\n",
       "    <tr>\n",
       "      <th>76</th>\n",
       "      <td>389161</td>\n",
       "      <td>33185.0</td>\n",
       "      <td>8297.0</td>\n",
       "      <td>20147</td>\n",
       "      <td>21194</td>\n",
       "    </tr>\n",
       "    <tr>\n",
       "      <th>77</th>\n",
       "      <td>387866</td>\n",
       "      <td>21327.0</td>\n",
       "      <td>7654.0</td>\n",
       "      <td>17964</td>\n",
       "      <td>18611</td>\n",
       "    </tr>\n",
       "    <tr>\n",
       "      <th>...</th>\n",
       "      <td>...</td>\n",
       "      <td>...</td>\n",
       "      <td>...</td>\n",
       "      <td>...</td>\n",
       "      <td>...</td>\n",
       "    </tr>\n",
       "    <tr>\n",
       "      <th>16194</th>\n",
       "      <td>1492716</td>\n",
       "      <td>79881.1</td>\n",
       "      <td>7345.6</td>\n",
       "      <td>16587</td>\n",
       "      <td>21260</td>\n",
       "    </tr>\n",
       "    <tr>\n",
       "      <th>16199</th>\n",
       "      <td>1331108</td>\n",
       "      <td>26394.0</td>\n",
       "      <td>8693.0</td>\n",
       "      <td>19544</td>\n",
       "      <td>20064</td>\n",
       "    </tr>\n",
       "    <tr>\n",
       "      <th>16203</th>\n",
       "      <td>1532649</td>\n",
       "      <td>55208.7</td>\n",
       "      <td>7107.0</td>\n",
       "      <td>14842</td>\n",
       "      <td>17599</td>\n",
       "    </tr>\n",
       "    <tr>\n",
       "      <th>16206</th>\n",
       "      <td>1455596</td>\n",
       "      <td>64867.2</td>\n",
       "      <td>7158.0</td>\n",
       "      <td>18338</td>\n",
       "      <td>21438</td>\n",
       "    </tr>\n",
       "    <tr>\n",
       "      <th>16209</th>\n",
       "      <td>1561905</td>\n",
       "      <td>30493.2</td>\n",
       "      <td>8621.6</td>\n",
       "      <td>17823</td>\n",
       "      <td>20064</td>\n",
       "    </tr>\n",
       "  </tbody>\n",
       "</table>\n",
       "<p>9427 rows × 5 columns</p>\n",
       "</div>"
      ],
      "text/plain": [
       "       IMAGEUID  Ventricles  Hippocampus  Fusiform  MidTemp\n",
       "48       391070     34372.0       7851.0     19522    23882\n",
       "49       788060     36983.0       8084.0     19974    20984\n",
       "54       394760     32264.0       8655.0     20580    21272\n",
       "76       389161     33185.0       8297.0     20147    21194\n",
       "77       387866     21327.0       7654.0     17964    18611\n",
       "...         ...         ...          ...       ...      ...\n",
       "16194   1492716     79881.1       7345.6     16587    21260\n",
       "16199   1331108     26394.0       8693.0     19544    20064\n",
       "16203   1532649     55208.7       7107.0     14842    17599\n",
       "16206   1455596     64867.2       7158.0     18338    21438\n",
       "16209   1561905     30493.2       8621.6     17823    20064\n",
       "\n",
       "[9427 rows x 5 columns]"
      ]
     },
     "execution_count": 30,
     "metadata": {},
     "output_type": "execute_result"
    }
   ],
   "source": [
    "target = department['DX_bl']\n",
    "select = department.drop('DX_bl', axis=1)\n",
    "select"
   ]
  },
  {
   "cell_type": "code",
   "execution_count": 31,
   "metadata": {
    "pycharm": {
     "name": "#%%\n"
    }
   },
   "outputs": [],
   "source": [
    "from sklearn.preprocessing import MinMaxScaler"
   ]
  },
  {
   "cell_type": "code",
   "execution_count": 32,
   "metadata": {
    "pycharm": {
     "name": "#%%\n"
    }
   },
   "outputs": [
    {
     "name": "stdout",
     "output_type": "stream",
     "text": [
      " [ 1000 / 1000 ] 100% - 0:00:00 left \n",
      " quantization error: 1.1194176092491868\n",
      "              precision    recall  f1-score   support\n",
      "\n",
      "        EMCI       0.60      0.50      0.55      2908\n",
      "        LMCI       0.76      0.82      0.79      5138\n",
      "         SMC       0.58      0.60      0.59      1381\n",
      "\n",
      "    accuracy                           0.69      9427\n",
      "   macro avg       0.65      0.64      0.64      9427\n",
      "weighted avg       0.68      0.69      0.69      9427\n",
      "\n"
     ]
    }
   ],
   "source": [
    "x = StandardScaler().fit_transform(select)\n",
    "\n",
    "N = x.shape[0]\n",
    "M = x.shape[1]\n",
    "\n",
    "size = math.ceil(np.sqrt(5 * np.sqrt(N)))\n",
    "\n",
    "max_iter = 1000\n",
    "\n",
    "som2 = MiniSom(size, size, M, sigma=5, learning_rate=0.1,\n",
    "              neighborhood_function='bubble', activation_distance='euclidean')\n",
    "som2.pca_weights_init(x)\n",
    "som2.train_batch(x, max_iter, verbose=True)\n",
    "winmap = som2.labels_map(x, target)\n",
    "\n",
    "y_pred = classify(som2, x, winmap)\n",
    "print(classification_report(target, np.array(y_pred)))"
   ]
  },
  {
   "cell_type": "code",
   "execution_count": 32,
   "metadata": {
    "pycharm": {
     "name": "#%%\n"
    }
   },
   "outputs": [],
   "source": []
  },
  {
   "cell_type": "code",
   "execution_count": 33,
   "metadata": {
    "pycharm": {
     "name": "#%%\n"
    }
   },
   "outputs": [
    {
     "data": {
      "image/png": "[encoded data removed]",
      "text/plain": [
       "<Figure size 648x648 with 2 Axes>"
      ]
     },
     "metadata": {},
     "output_type": "display_data"
    }
   ],
   "source": [
    "heatmap = som2.distance_map()\n",
    "plt.figure(figsize=(9, 9))\n",
    "plt.imshow(heatmap)\n",
    "plt.colorbar()\n",
    "plt.savefig(create_figure('U-matrix-2'), dpi=800)"
   ]
  },
  {
   "cell_type": "code",
   "execution_count": 34,
   "metadata": {
    "pycharm": {
     "name": "#%%\n"
    }
   },
   "outputs": [
    {
     "data": {
      "text/plain": [
       "0.1376893344491809"
      ]
     },
     "metadata": {},
     "output_type": "display_data"
    },
    {
     "data": {
      "text/plain": [
       "1.8974890729254608"
      ]
     },
     "metadata": {},
     "output_type": "display_data"
    }
   ],
   "source": [
    "display(\n",
    "    silhouette_score(x, y_pred),\n",
    "    davies_bouldin_score(x, y_pred)\n",
    ")"
   ]
  },
  {
   "cell_type": "code",
   "execution_count": 35,
   "metadata": {
    "pycharm": {
     "name": "#%%\n"
    }
   },
   "outputs": [
    {
     "data": {
      "text/plain": [
       "array([[[ 1.34952610e+00, -8.95902317e-01,  4.30124669e-01,\n",
       "         -5.52861346e-02,  6.89082381e-01],\n",
       "        [ 1.40468058e+00, -9.15910731e-01,  4.79188402e-01,\n",
       "         -9.36438213e-03,  5.56612564e-01],\n",
       "        [ 1.41216070e+00, -1.00626632e+00,  4.25568467e-01,\n",
       "         -4.56921669e-03,  1.99710468e-01],\n",
       "        ...,\n",
       "        [-2.04105711e-01, -8.97293215e-01, -6.81175653e-01,\n",
       "          6.07826502e-01, -7.57111976e-02],\n",
       "        [-2.22049117e-01, -9.10975528e-01, -7.15695241e-01,\n",
       "          7.19292666e-01, -6.19140020e-02],\n",
       "        [-2.54925732e-01, -9.15367064e-01, -7.23815608e-01,\n",
       "          7.62834685e-01, -8.62717570e-02]],\n",
       "\n",
       "       [[ 1.42894901e+00, -8.85751546e-01,  5.38521391e-01,\n",
       "          4.51576302e-02,  6.30318716e-01],\n",
       "        [ 1.47973089e+00, -9.15113872e-01,  5.29297017e-01,\n",
       "          2.91156078e-02,  5.22667351e-01],\n",
       "        [ 1.59318839e+00, -1.03130685e+00,  4.59956258e-01,\n",
       "          1.97254555e-02,  1.35188217e-01],\n",
       "        ...,\n",
       "        [-1.20930120e-01, -7.86945709e-01, -6.37339484e-01,\n",
       "          6.04391205e-01,  3.13741406e-02],\n",
       "        [-1.25783722e-01, -7.85267076e-01, -6.57354311e-01,\n",
       "          6.97635551e-01,  6.03003085e-02],\n",
       "        [-1.47299237e-01, -7.87083998e-01, -7.06834206e-01,\n",
       "          7.42624050e-01,  5.52924431e-02]],\n",
       "\n",
       "       [[ 1.52244808e+00, -8.94426623e-01,  6.37586209e-01,\n",
       "          2.19160116e-01,  5.05288467e-01],\n",
       "        [ 1.61957095e+00, -9.37182244e-01,  6.11256037e-01,\n",
       "          1.91568241e-01,  4.42614245e-01],\n",
       "        [ 1.74121024e+00, -9.74092271e-01,  4.94966425e-01,\n",
       "          1.19081553e-01,  1.35431819e-01],\n",
       "        ...,\n",
       "        [-4.79089528e-04, -7.81937079e-01, -4.96658836e-01,\n",
       "          5.62303237e-01,  1.58674502e-01],\n",
       "        [-3.75299936e-02, -8.04055614e-01, -5.43863146e-01,\n",
       "          6.41001399e-01,  2.33951921e-01],\n",
       "        [-1.20100060e-01, -8.12570251e-01, -5.99136570e-01,\n",
       "          6.65327242e-01,  2.46642309e-01]],\n",
       "\n",
       "       ...,\n",
       "\n",
       "       [[ 3.37359928e-01,  8.34214803e-01,  3.81393740e-01,\n",
       "         -7.34712291e-01,  6.06173328e-01],\n",
       "        [ 2.92813479e-01,  8.20313509e-01,  3.58991388e-01,\n",
       "         -6.57233761e-01,  5.87644202e-01],\n",
       "        [ 2.66268314e-01,  8.16767704e-01,  3.52434858e-01,\n",
       "         -6.22077159e-01,  5.67977316e-01],\n",
       "        ...,\n",
       "        [-1.00540538e-01,  2.57669884e-01,  3.29141571e-01,\n",
       "          7.41687433e-01,  2.09782997e-02],\n",
       "        [-3.29676178e-01,  4.03683849e-01,  2.08409231e-01,\n",
       "          6.46229151e-01, -2.37142991e-01],\n",
       "        [-4.61341441e-01,  5.11030764e-01,  1.76778269e-01,\n",
       "          6.75819492e-01, -3.59914579e-01]],\n",
       "\n",
       "       [[ 3.24088507e-01,  8.80942531e-01,  4.01355359e-01,\n",
       "         -7.36067140e-01,  6.06584873e-01],\n",
       "        [ 2.95520083e-01,  8.77126467e-01,  3.94299094e-01,\n",
       "         -6.98230919e-01,  5.85418987e-01],\n",
       "        [ 2.66951659e-01,  8.73310402e-01,  3.87242829e-01,\n",
       "         -6.60394697e-01,  5.64253101e-01],\n",
       "        ...,\n",
       "        [-3.96229416e-01,  5.38283982e-01,  2.45447135e-01,\n",
       "          6.19894388e-01, -1.28234607e-01],\n",
       "        [-5.05180419e-01,  6.18398183e-01,  1.87929279e-01,\n",
       "          6.28638595e-01, -2.95724070e-01],\n",
       "        [-5.58344516e-01,  6.59443758e-01,  1.89882011e-01,\n",
       "          6.88932231e-01, -3.66598940e-01]],\n",
       "\n",
       "       [[ 2.46409576e-01,  1.03768922e+00,  3.75965668e-01,\n",
       "         -7.04193647e-01,  4.84737363e-01],\n",
       "        [ 2.07177764e-01,  1.03244878e+00,  3.66275597e-01,\n",
       "         -6.52234759e-01,  4.55671144e-01],\n",
       "        [ 1.67945951e-01,  1.02720834e+00,  3.56585526e-01,\n",
       "         -6.00275871e-01,  4.26604924e-01],\n",
       "        ...,\n",
       "        [-4.91161247e-01,  6.76519781e-01,  2.08375312e-01,\n",
       "          5.82399525e-01, -2.53119989e-01],\n",
       "        [-5.37092690e-01,  7.03556358e-01,  1.95998144e-01,\n",
       "          6.22841025e-01, -3.21467491e-01],\n",
       "        [-5.95007331e-01,  7.50318289e-01,  1.97910401e-01,\n",
       "          6.86012791e-01, -3.96011119e-01]]])"
      ]
     },
     "execution_count": 35,
     "metadata": {},
     "output_type": "execute_result"
    }
   ],
   "source": [
    "w = som2.get_weights()\n",
    "w"
   ]
  },
  {
   "cell_type": "code",
   "execution_count": 36,
   "metadata": {
    "pycharm": {
     "name": "#%%\n"
    }
   },
   "outputs": [
    {
     "data": {
      "image/png": "[encoded data removed]",
      "text/plain": [
       "<Figure size 648x648 with 1 Axes>"
      ]
     },
     "metadata": {},
     "output_type": "display_data"
    }
   ],
   "source": [
    "color_map = {\n",
    "    'SMC': 1,\n",
    "    'LMCI': 2,\n",
    "    'EMCI': 3\n",
    "}\n",
    "\n",
    "wmap = {}\n",
    "im = 0\n",
    "\n",
    "plt.figure(figsize=(9, 9))\n",
    "\n",
    "test = pd.DataFrame(x)\n",
    "test['target'] = target\n",
    "test = test.sample(3000).dropna(axis=0, how='any')\n",
    "x_ = test.drop('target', axis=1).to_numpy()\n",
    "target_ = test['target'].to_numpy()\n",
    "\n",
    "for temp1, temp2 in zip(x_, target_):\n",
    "    w = som2.winner(temp1)\n",
    "    # wmap[temp1] = im\n",
    "    plt.text(w[0] + .5, w[1] + .5, str(temp2), color=plt.cm.Dark2(color_map[temp2]),\n",
    "             fontdict={'weight': 'bold', 'size': 11})\n",
    "    # im = im + 1\n",
    "plt.axis([0, som2.get_weights().shape[0], 0,  som2.get_weights().shape[1]])\n",
    "plt.savefig(create_figure('word_dis'), dpi=800)"
   ]
  },
  {
   "cell_type": "code",
   "execution_count": 37,
   "metadata": {
    "pycharm": {
     "name": "#%%\n"
    }
   },
   "outputs": [
    {
     "data": {
      "image/png": "[encoded data removed]",
      "text/plain": [
       "<Figure size 864x864 with 481 Axes>"
      ]
     },
     "metadata": {},
     "output_type": "display_data"
    }
   ],
   "source": [
    "from matplotlib.gridspec import GridSpec\n",
    "\n",
    "class_names = color_map.keys()\n",
    "\n",
    "plt.figure(figsize=(12, 12))\n",
    "the_grid = GridSpec(size, size)\n",
    "for position in winmap.keys():\n",
    "    label_fracs = [winmap[position][label] for label in [0,1,2]]\n",
    "    plt.subplot(the_grid[position[1], position[0]], aspect=1)\n",
    "    patches, texts = plt.pie(label_fracs)\n",
    "    plt.text(position[0]/100, position[1]/100,  str(len(list(winmap[position].elements()))),\n",
    "              color='black', fontdict={'weight': 'bold',  'size': 15},\n",
    "              va='center',ha='center')\n",
    "plt.tight_layout()\n",
    "# plt.legend(patches, class_names, loc='upper right', bbox_to_anchor=(-1,0), ncol=3)\n",
    "# plt.savefig()\n",
    "plt.savefig(create_figure('num_dis'), dpi=800)"
   ]
  },
  {
   "cell_type": "code",
   "execution_count": 38,
   "metadata": {
    "pycharm": {
     "name": "#%%\n"
    }
   },
   "outputs": [
    {
     "data": {
      "text/plain": [
       "<Figure size 864x864 with 0 Axes>"
      ]
     },
     "metadata": {},
     "output_type": "display_data"
    },
    {
     "data": {
      "image/png": "[encoded data removed]",
      "text/plain": [
       "<Figure size 864x864 with 2 Axes>"
      ]
     },
     "metadata": {},
     "output_type": "display_data"
    }
   ],
   "source": [
    "plt.figure(figsize=(12, 12))\n",
    "\n",
    "corr = pd.DataFrame(index=range(23), columns=range(23))\n",
    "for position in winmap.keys():\n",
    "    num = len(list(winmap[position].elements()))\n",
    "    corr.iloc[position[0], position[1]] = num\n",
    "corr.fillna(0, inplace=True)\n",
    "\n",
    "plt.figure(figsize=(12, 12))\n",
    "sns.heatmap(corr, cmap='coolwarm', center=150)\n",
    "plt.savefig(create_figure('neural network'), dpi=800)"
   ]
  },
  {
   "cell_type": "code",
   "execution_count": 40,
   "metadata": {
    "pycharm": {
     "name": "#%%\n"
    }
   },
   "outputs": [
    {
     "data": {
      "image/png": "[encoded data removed]",
      "text/plain": [
       "<Figure size 1296x1296 with 5 Axes>"
      ]
     },
     "metadata": {},
     "output_type": "display_data"
    }
   ],
   "source": [
    "W = som2.get_weights()\n",
    "plt.figure(figsize=(18, 18))\n",
    "for i, f in enumerate(select.columns[:5]):\n",
    "    plt.subplot(2, 3, i+1)\n",
    "    plt.title(f, fontdict={'size': 25})\n",
    "    plt.imshow(W[:,:,i], cmap='coolwarm')\n",
    "    # plt.colorbar()\n",
    "    plt.xticks(np.arange(size))\n",
    "    plt.yticks(np.arange(size))\n",
    "plt.tight_layout()\n",
    "plt.savefig(create_figure('feather_w1'), dpi=1200)"
   ]
  },
  {
   "cell_type": "code",
   "execution_count": 39,
   "metadata": {
    "pycharm": {
     "name": "#%%\n"
    }
   },
   "outputs": [],
   "source": []
  }
 ],
 "metadata": {
  "kernelspec": {
   "display_name": "Python 3 (ipykernel)",
   "language": "python",
   "name": "python3"
  },
  "language_info": {
   "codemirror_mode": {
    "name": "ipython",
    "version": 3
   },
   "file_extension": ".py",
   "mimetype": "text/x-python",
   "name": "python",
   "nbconvert_exporter": "python",
   "pygments_lexer": "ipython3",
   "version": "3.9.7"
  }
 },
 "nbformat": 4,
 "nbformat_minor": 1
}
